{
 "cells": [
  {
   "cell_type": "code",
   "execution_count": 1,
   "metadata": {},
   "outputs": [],
   "source": [
    "from bs4 import BeautifulSoup\n",
    "import requests\n",
    "import pandas as pd\n",
    "import time\n",
    "import tqdm\n",
    "from requests_ip_rotator import ApiGateway\n",
    "\n",
    "from fake_useragent import UserAgent\n",
    "from itertools import cycle\n",
    "import random "
   ]
  },
  {
   "cell_type": "code",
   "execution_count": 11,
   "metadata": {},
   "outputs": [],
   "source": [
    "ips = pd.read_csv(\"http_proxies (1).txt\")"
   ]
  },
  {
   "cell_type": "code",
   "execution_count": 2,
   "metadata": {},
   "outputs": [],
   "source": [
    "urls = pd.read_csv('links.csv')"
   ]
  },
  {
   "cell_type": "code",
   "execution_count": 39,
   "metadata": {},
   "outputs": [
    {
     "name": "stderr",
     "output_type": "stream",
     "text": [
      "  0%|          | 0/422 [00:00<?, ?it/s]"
     ]
    },
    {
     "name": "stdout",
     "output_type": "stream",
     "text": [
      "200\n",
      "[{'job_title': 'VENDEDORES/AS (m/f) SPORT ZONE BEJA', 'job_description': 'Na Sport Zone estamos empenhados em criar e manter um ambiente fundamentado na cooperação e no respeito mútuo, com um compromisso sólido com a Diversidade e a Igualdade de oportunidades. Reconhecemos e valorizamos todas as pessoas, independentemente da sua identidade de género, orientação sexual, etnia, religião, idade ou condição física.Os nossos processos de seleção são conduzidos com base numa avaliação de competências, onde priorizamos a paixão, a vontade de aprender e o desejo de crescer num ambiente internacional.Procuramos jovens com uma atitude positiva, apaixonados pelo atendimento ao público, mesmo em ambientes de trabalho com ritmo acelerado. Valorizamos aqueles que encaram os desafios com entusiasmo, que os veem como oportunidades de desenvolvimento, crescimento profissional e aprendizagem de novas competências. É também essencial possuir uma excelente capacidade de comunicação e habilidade para trabalhar em equipa.No teu dia a dia, como Sales Assistant, irás:Garantir uma experiência excecional ao cliente, oferecendo um serviço de excelência;Manter-te atualizado/a sobre os produtos mais modernos e exclusivos, assegurando os padrões de vendas estabelecidos;Trabalhar com a tua equipa para alcançar objetivos de vendas e os indicadores-chave de performance (KPIs), mantendo-te informado/a sobre as tendências atuais, as promoções em loja e os processos em constante evolução.Requisitos:12º ano de escolaridade, curso técnico com a mesma equivalência ou ensino superior;Excelência no atendimento ao cliente;Boa capacidade de comunicação;Flexibilidade horária;Paixão pelo calçado e pelo ramo retalho/moda. O que temos para te oferecer:Integração num grupo multinacional;Desconto exclusivo para colaboradores e outros benefícios;Remuneração base, complementada por bónus variáveis, alinhados com os objetivos de vendas alcançados;Horários flexíveis, compatíveis com os teus estudos e necessidades pessoais;Oportunidade de formação contínua, para que possas expandir os teus conhecimentos e habilidades ao longo do tempo.Queremos conhecer-te! Se acreditas que esta oferta é ideal para ti, inscreve-te já! Avaliaremos todas as candidaturas que preencham os requisitos e entraremos em contacto para agendar uma entrevista.Sabe mais em https://pt.careers.isrg.com/O grupo:Em 1997, inauguramos a primeira loja Sport Zone em Portugal, com o grupo Sonae como promotor e seguindo uma estratégia de crescimento, em 2008, iniciámos o processo de internacionalização, abrindo a nossa primeira loja em Madrid e, em 2014, a primeira loja franchisada em Ceuta.Em janeiro de 2018, a Sport Zone, juntamente com outras duas insígnias de retalho desportivo - JD e Sprinter - formou o Iberian Sports Retail Group (ISRG), o maior retalhista da Península Ibérica no setor desportivo, com uma rede de mais de 400 lojas, 5 lojas online e uma equipa de mais de 10500 colaboradores.Já em outubro de 2023, o grupo Iberian Sports Retail Group foi adquirido pelo grupo britânico JD Group. Atualmente, o grupo ISRG é composto pelas marcas Sprinter, Sport Zone, Deporvillage e Bodytone, operando em Portugal e Espanha.Na Sport Zone, a nossa história é de paixão pelo desporto e compromisso com os nossos clientes. Com mais de 300 marcas, tanto de renome internacional como a Adidas, Nike, Puma, Reebok, Fila, Asics, quanto as nossas marcas próprias, como a Doone, Up, Silver, Ankor e Team Quest, posicionamo-nos competitivamente no mercado.Oferecemos um ambiente focado na cooperação e no respeito mútuo, com um forte compromisso pela diversidade e pela igualdade de oportunidades. Todas as pessoas serão consideradas independentemente da sua identidade de género, orientação sexual, etnia, religião, idade ou grau de incapacidade.Os nossos processos de seleção baseiam-se no modelo de avaliação por competências profissionais e valorizamos muito a paixão, a vontade de aprender e de crescer num contexto internacional.Estás interessado/a?Inscreve-te já nas nossas ofertas através do nosso site! Estamos à tua espera!Devido ao alto volume de candidaturas que recebemos, pode levar algum tempo até retornarmos o contato. Em caso de que não recebas notícias nossas após duas-três semanas, considera que decidimos avançar com outros perfis que se encaixam melhor com o que procuramos nesta fase. As candidaturas que cumpram com os requisitos serão contactadas pela equipa de Talent. Muito obrigado pelo o teu tempo e interesse!', 'company': 'Sport Zone', 'location': 'Béja, Béja, Tunisia', 'seniority': 'مستوى المبتدئين', 'employement_type': 'دوام كامل', 'job_functions': 'غير ذلك', 'industry': 'التكنولوجيا والمعلومات والإنترنت'}]\n",
      "1\n",
      "                             job_title  \\\n",
      "0  VENDEDORES/AS (m/f) SPORT ZONE BEJA   \n",
      "\n",
      "                                     job_description     company  \\\n",
      "0  Na Sport Zone estamos empenhados em criar e ma...  Sport Zone   \n",
      "\n",
      "              location        seniority employement_type job_functions  \\\n",
      "0  Béja, Béja, Tunisia  مستوى المبتدئين        دوام كامل       غير ذلك   \n",
      "\n",
      "                           industry  \n",
      "0  التكنولوجيا والمعلومات والإنترنت  \n"
     ]
    },
    {
     "name": "stderr",
     "output_type": "stream",
     "text": [
      "  0%|          | 1/422 [00:03<23:26,  3.34s/it]"
     ]
    },
    {
     "name": "stdout",
     "output_type": "stream",
     "text": [
      "200\n",
      "[{'job_title': 'VENDEDORES/AS (m/f) SPORT ZONE BEJA', 'job_description': 'Na Sport Zone estamos empenhados em criar e manter um ambiente fundamentado na cooperação e no respeito mútuo, com um compromisso sólido com a Diversidade e a Igualdade de oportunidades. Reconhecemos e valorizamos todas as pessoas, independentemente da sua identidade de género, orientação sexual, etnia, religião, idade ou condição física.Os nossos processos de seleção são conduzidos com base numa avaliação de competências, onde priorizamos a paixão, a vontade de aprender e o desejo de crescer num ambiente internacional.Procuramos jovens com uma atitude positiva, apaixonados pelo atendimento ao público, mesmo em ambientes de trabalho com ritmo acelerado. Valorizamos aqueles que encaram os desafios com entusiasmo, que os veem como oportunidades de desenvolvimento, crescimento profissional e aprendizagem de novas competências. É também essencial possuir uma excelente capacidade de comunicação e habilidade para trabalhar em equipa.No teu dia a dia, como Sales Assistant, irás:Garantir uma experiência excecional ao cliente, oferecendo um serviço de excelência;Manter-te atualizado/a sobre os produtos mais modernos e exclusivos, assegurando os padrões de vendas estabelecidos;Trabalhar com a tua equipa para alcançar objetivos de vendas e os indicadores-chave de performance (KPIs), mantendo-te informado/a sobre as tendências atuais, as promoções em loja e os processos em constante evolução.Requisitos:12º ano de escolaridade, curso técnico com a mesma equivalência ou ensino superior;Excelência no atendimento ao cliente;Boa capacidade de comunicação;Flexibilidade horária;Paixão pelo calçado e pelo ramo retalho/moda. O que temos para te oferecer:Integração num grupo multinacional;Desconto exclusivo para colaboradores e outros benefícios;Remuneração base, complementada por bónus variáveis, alinhados com os objetivos de vendas alcançados;Horários flexíveis, compatíveis com os teus estudos e necessidades pessoais;Oportunidade de formação contínua, para que possas expandir os teus conhecimentos e habilidades ao longo do tempo.Queremos conhecer-te! Se acreditas que esta oferta é ideal para ti, inscreve-te já! Avaliaremos todas as candidaturas que preencham os requisitos e entraremos em contacto para agendar uma entrevista.Sabe mais em https://pt.careers.isrg.com/O grupo:Em 1997, inauguramos a primeira loja Sport Zone em Portugal, com o grupo Sonae como promotor e seguindo uma estratégia de crescimento, em 2008, iniciámos o processo de internacionalização, abrindo a nossa primeira loja em Madrid e, em 2014, a primeira loja franchisada em Ceuta.Em janeiro de 2018, a Sport Zone, juntamente com outras duas insígnias de retalho desportivo - JD e Sprinter - formou o Iberian Sports Retail Group (ISRG), o maior retalhista da Península Ibérica no setor desportivo, com uma rede de mais de 400 lojas, 5 lojas online e uma equipa de mais de 10500 colaboradores.Já em outubro de 2023, o grupo Iberian Sports Retail Group foi adquirido pelo grupo britânico JD Group. Atualmente, o grupo ISRG é composto pelas marcas Sprinter, Sport Zone, Deporvillage e Bodytone, operando em Portugal e Espanha.Na Sport Zone, a nossa história é de paixão pelo desporto e compromisso com os nossos clientes. Com mais de 300 marcas, tanto de renome internacional como a Adidas, Nike, Puma, Reebok, Fila, Asics, quanto as nossas marcas próprias, como a Doone, Up, Silver, Ankor e Team Quest, posicionamo-nos competitivamente no mercado.Oferecemos um ambiente focado na cooperação e no respeito mútuo, com um forte compromisso pela diversidade e pela igualdade de oportunidades. Todas as pessoas serão consideradas independentemente da sua identidade de género, orientação sexual, etnia, religião, idade ou grau de incapacidade.Os nossos processos de seleção baseiam-se no modelo de avaliação por competências profissionais e valorizamos muito a paixão, a vontade de aprender e de crescer num contexto internacional.Estás interessado/a?Inscreve-te já nas nossas ofertas através do nosso site! Estamos à tua espera!Devido ao alto volume de candidaturas que recebemos, pode levar algum tempo até retornarmos o contato. Em caso de que não recebas notícias nossas após duas-três semanas, considera que decidimos avançar com outros perfis que se encaixam melhor com o que procuramos nesta fase. As candidaturas que cumpram com os requisitos serão contactadas pela equipa de Talent. Muito obrigado pelo o teu tempo e interesse!', 'company': 'Sport Zone', 'location': 'Béja, Béja, Tunisia', 'seniority': 'مستوى المبتدئين', 'employement_type': 'دوام كامل', 'job_functions': 'غير ذلك', 'industry': 'التكنولوجيا والمعلومات والإنترنت'}, {'job_title': 'Vendedor (M/F/D) Beja', 'job_description': 'Descrição da EmpresaKnower™ Especialistas em especialistas Presentes no mercado há mais de 20 anos, na Knower™ somos especialistas em especialistas e atuamos em setores de atividade tão diversos como Limpezas (Knower™ Clean), Tecnologias (Knower™ Tech), Saúde (Knower™ Care), Logística (Knower™ Industry & Logistics), Contact Center (Knower™ Contact) e Field Marketing e Ativação de Marca (Bechosen/ Knower™ Brands). O profissionalismo, rigor e especialização dos nossos profissionais permite-nos posicionar como um player de referência para o fornecimento de serviços de Outsourcing. Achas que tens o que é preciso, especialista? Descobre as nossas vagas em aberto.Descrição da FunçãoA Knower está atualmente em processo de recrutamento de Vendedor (M/F/D) para empresa nossa cliente, localizada na zona de Beja. Descrição: - Apresentação, Promoção e Venda de diversos produtos ao cliente externo; - Apoiar o cliente no esclarecimento das suas dúvidas; - Promoção de produtos e serviços de telecomunicações. Requisitos - Falar fluentemente língua portuguesa; - Discurso fluido e boa dicção; - Dinâmico, assertivo, proativo e ambicioso; - Boa capacidade de argumentação; - Lidar com cada tarefa e desafio com uma abordagem positiva e com contribuição e resiliência necessária a cada cliente. Observações Condições: - Contrato de trabalho; - Horário de Full-Time ou Part-Time; - Integração em equipa jovem e dinâmica.Localização Beja, Portugal ObservaçõesWe Know How! WE SAY HELLO TO EVERYONE! Acreditamos que o talento supera idade, identidade de género, etnias, orientações políticas ou religiosas, ultrapassa barreiras de expressão, de níveis de ensino e de limites físicos. O nosso compromisso é com o mérito de quem procura ser uma versão melhor de si todos os dias! Por este motivo, procuramos que o nosso processo de recrutamento e seleção seja inclusivo e respeite a individualidade de cada pessoa, criando uma experiência saudável e feliz para quem se cruza connosco. Qualquer questão adicional disponha!', 'company': 'Knower™', 'location': 'Béja, Béja, Tunisia', 'seniority': 'مستوى المبتدئين', 'employement_type': 'دوام كامل', 'job_functions': 'المبيعات و تطوير الأعمال التجارية', 'industry': 'خدمات الموارد البشرية'}]\n",
      "2\n",
      "                             job_title  \\\n",
      "0  VENDEDORES/AS (m/f) SPORT ZONE BEJA   \n",
      "1                Vendedor (M/F/D) Beja   \n",
      "\n",
      "                                     job_description     company  \\\n",
      "0  Na Sport Zone estamos empenhados em criar e ma...  Sport Zone   \n",
      "1  Descrição da EmpresaKnower™ Especialistas em e...     Knower™   \n",
      "\n",
      "              location        seniority employement_type  \\\n",
      "0  Béja, Béja, Tunisia  مستوى المبتدئين        دوام كامل   \n",
      "1  Béja, Béja, Tunisia  مستوى المبتدئين        دوام كامل   \n",
      "\n",
      "                       job_functions                          industry  \n",
      "0                            غير ذلك  التكنولوجيا والمعلومات والإنترنت  \n",
      "1  المبيعات و تطوير الأعمال التجارية             خدمات الموارد البشرية  \n"
     ]
    },
    {
     "name": "stderr",
     "output_type": "stream",
     "text": [
      "  0%|          | 2/422 [00:06<22:06,  3.16s/it]"
     ]
    },
    {
     "name": "stdout",
     "output_type": "stream",
     "text": [
      "200\n",
      "[{'job_title': 'VENDEDORES/AS (m/f) SPORT ZONE BEJA', 'job_description': 'Na Sport Zone estamos empenhados em criar e manter um ambiente fundamentado na cooperação e no respeito mútuo, com um compromisso sólido com a Diversidade e a Igualdade de oportunidades. Reconhecemos e valorizamos todas as pessoas, independentemente da sua identidade de género, orientação sexual, etnia, religião, idade ou condição física.Os nossos processos de seleção são conduzidos com base numa avaliação de competências, onde priorizamos a paixão, a vontade de aprender e o desejo de crescer num ambiente internacional.Procuramos jovens com uma atitude positiva, apaixonados pelo atendimento ao público, mesmo em ambientes de trabalho com ritmo acelerado. Valorizamos aqueles que encaram os desafios com entusiasmo, que os veem como oportunidades de desenvolvimento, crescimento profissional e aprendizagem de novas competências. É também essencial possuir uma excelente capacidade de comunicação e habilidade para trabalhar em equipa.No teu dia a dia, como Sales Assistant, irás:Garantir uma experiência excecional ao cliente, oferecendo um serviço de excelência;Manter-te atualizado/a sobre os produtos mais modernos e exclusivos, assegurando os padrões de vendas estabelecidos;Trabalhar com a tua equipa para alcançar objetivos de vendas e os indicadores-chave de performance (KPIs), mantendo-te informado/a sobre as tendências atuais, as promoções em loja e os processos em constante evolução.Requisitos:12º ano de escolaridade, curso técnico com a mesma equivalência ou ensino superior;Excelência no atendimento ao cliente;Boa capacidade de comunicação;Flexibilidade horária;Paixão pelo calçado e pelo ramo retalho/moda. O que temos para te oferecer:Integração num grupo multinacional;Desconto exclusivo para colaboradores e outros benefícios;Remuneração base, complementada por bónus variáveis, alinhados com os objetivos de vendas alcançados;Horários flexíveis, compatíveis com os teus estudos e necessidades pessoais;Oportunidade de formação contínua, para que possas expandir os teus conhecimentos e habilidades ao longo do tempo.Queremos conhecer-te! Se acreditas que esta oferta é ideal para ti, inscreve-te já! Avaliaremos todas as candidaturas que preencham os requisitos e entraremos em contacto para agendar uma entrevista.Sabe mais em https://pt.careers.isrg.com/O grupo:Em 1997, inauguramos a primeira loja Sport Zone em Portugal, com o grupo Sonae como promotor e seguindo uma estratégia de crescimento, em 2008, iniciámos o processo de internacionalização, abrindo a nossa primeira loja em Madrid e, em 2014, a primeira loja franchisada em Ceuta.Em janeiro de 2018, a Sport Zone, juntamente com outras duas insígnias de retalho desportivo - JD e Sprinter - formou o Iberian Sports Retail Group (ISRG), o maior retalhista da Península Ibérica no setor desportivo, com uma rede de mais de 400 lojas, 5 lojas online e uma equipa de mais de 10500 colaboradores.Já em outubro de 2023, o grupo Iberian Sports Retail Group foi adquirido pelo grupo britânico JD Group. Atualmente, o grupo ISRG é composto pelas marcas Sprinter, Sport Zone, Deporvillage e Bodytone, operando em Portugal e Espanha.Na Sport Zone, a nossa história é de paixão pelo desporto e compromisso com os nossos clientes. Com mais de 300 marcas, tanto de renome internacional como a Adidas, Nike, Puma, Reebok, Fila, Asics, quanto as nossas marcas próprias, como a Doone, Up, Silver, Ankor e Team Quest, posicionamo-nos competitivamente no mercado.Oferecemos um ambiente focado na cooperação e no respeito mútuo, com um forte compromisso pela diversidade e pela igualdade de oportunidades. Todas as pessoas serão consideradas independentemente da sua identidade de género, orientação sexual, etnia, religião, idade ou grau de incapacidade.Os nossos processos de seleção baseiam-se no modelo de avaliação por competências profissionais e valorizamos muito a paixão, a vontade de aprender e de crescer num contexto internacional.Estás interessado/a?Inscreve-te já nas nossas ofertas através do nosso site! Estamos à tua espera!Devido ao alto volume de candidaturas que recebemos, pode levar algum tempo até retornarmos o contato. Em caso de que não recebas notícias nossas após duas-três semanas, considera que decidimos avançar com outros perfis que se encaixam melhor com o que procuramos nesta fase. As candidaturas que cumpram com os requisitos serão contactadas pela equipa de Talent. Muito obrigado pelo o teu tempo e interesse!', 'company': 'Sport Zone', 'location': 'Béja, Béja, Tunisia', 'seniority': 'مستوى المبتدئين', 'employement_type': 'دوام كامل', 'job_functions': 'غير ذلك', 'industry': 'التكنولوجيا والمعلومات والإنترنت'}, {'job_title': 'Vendedor (M/F/D) Beja', 'job_description': 'Descrição da EmpresaKnower™ Especialistas em especialistas Presentes no mercado há mais de 20 anos, na Knower™ somos especialistas em especialistas e atuamos em setores de atividade tão diversos como Limpezas (Knower™ Clean), Tecnologias (Knower™ Tech), Saúde (Knower™ Care), Logística (Knower™ Industry & Logistics), Contact Center (Knower™ Contact) e Field Marketing e Ativação de Marca (Bechosen/ Knower™ Brands). O profissionalismo, rigor e especialização dos nossos profissionais permite-nos posicionar como um player de referência para o fornecimento de serviços de Outsourcing. Achas que tens o que é preciso, especialista? Descobre as nossas vagas em aberto.Descrição da FunçãoA Knower está atualmente em processo de recrutamento de Vendedor (M/F/D) para empresa nossa cliente, localizada na zona de Beja. Descrição: - Apresentação, Promoção e Venda de diversos produtos ao cliente externo; - Apoiar o cliente no esclarecimento das suas dúvidas; - Promoção de produtos e serviços de telecomunicações. Requisitos - Falar fluentemente língua portuguesa; - Discurso fluido e boa dicção; - Dinâmico, assertivo, proativo e ambicioso; - Boa capacidade de argumentação; - Lidar com cada tarefa e desafio com uma abordagem positiva e com contribuição e resiliência necessária a cada cliente. Observações Condições: - Contrato de trabalho; - Horário de Full-Time ou Part-Time; - Integração em equipa jovem e dinâmica.Localização Beja, Portugal ObservaçõesWe Know How! WE SAY HELLO TO EVERYONE! Acreditamos que o talento supera idade, identidade de género, etnias, orientações políticas ou religiosas, ultrapassa barreiras de expressão, de níveis de ensino e de limites físicos. O nosso compromisso é com o mérito de quem procura ser uma versão melhor de si todos os dias! Por este motivo, procuramos que o nosso processo de recrutamento e seleção seja inclusivo e respeite a individualidade de cada pessoa, criando uma experiência saudável e feliz para quem se cruza connosco. Qualquer questão adicional disponha!', 'company': 'Knower™', 'location': 'Béja, Béja, Tunisia', 'seniority': 'مستوى المبتدئين', 'employement_type': 'دوام كامل', 'job_functions': 'المبيعات و تطوير الأعمال التجارية', 'industry': 'خدمات الموارد البشرية'}, {'job_title': 'Oferta: ADMINISTRATIVO(A) - Beja', 'job_description': 'Oferta: ADMINISTRATIVO(A) - Beja:rhDescrição Do EmpregoADMINISTRATIVO(A) - Beja»RH»Ref: 7338978»5-12-2024»Beja»Administração / SecretariadoDetalhe Da OfertaEmpresa de soluções energéticas e comercialização de equipamentos nas áreas de AVAC, Eletricidade e Energias Renováveis, entre outras, procura administrativo(a) para reforçar a sua equipa da delegação de Beja.Referência Da Oferta Atendimento telefónico ou presencial da delegação; Controlo dos valores de caixa - recebimentos, pagamentos e cobranças; Arquivo de toda a documentação da actividade da delegação; Elaboração dos mapas financeiros.Perfil 12º ano, preferencialmente em área de secretariado ou similar; Experiência de trabalho na área administrativa; Responsabilidade, organização e dinamismo; Residência na região de Beja.Oferta Vencimento base + subsídio de alimentação; Integração em empresa sólida e equipa jovem.Referência da oferta:(a) na oferta e cumpra o perfil definido, envie a sua candidatura através do link:CompetênciasMais Ofertas de Emprego Semelhantes:', 'company': 'RH PARTNERS DO BRASIL', 'location': 'Béja, Béja, Tunisia', 'seniority': 'مستوى المبتدئين', 'employement_type': 'دوام كامل', 'job_functions': 'غير ذلك', 'industry': 'الاستشارات والخدمات في مجال الأعمال'}]\n",
      "3\n",
      "                             job_title  \\\n",
      "0  VENDEDORES/AS (m/f) SPORT ZONE BEJA   \n",
      "1                Vendedor (M/F/D) Beja   \n",
      "2     Oferta: ADMINISTRATIVO(A) - Beja   \n",
      "\n",
      "                                     job_description                company  \\\n",
      "0  Na Sport Zone estamos empenhados em criar e ma...             Sport Zone   \n",
      "1  Descrição da EmpresaKnower™ Especialistas em e...                Knower™   \n",
      "2  Oferta: ADMINISTRATIVO(A) - Beja:rhDescrição D...  RH PARTNERS DO BRASIL   \n",
      "\n",
      "              location        seniority employement_type  \\\n",
      "0  Béja, Béja, Tunisia  مستوى المبتدئين        دوام كامل   \n",
      "1  Béja, Béja, Tunisia  مستوى المبتدئين        دوام كامل   \n",
      "2  Béja, Béja, Tunisia  مستوى المبتدئين        دوام كامل   \n",
      "\n",
      "                       job_functions                             industry  \n",
      "0                            غير ذلك     التكنولوجيا والمعلومات والإنترنت  \n",
      "1  المبيعات و تطوير الأعمال التجارية                خدمات الموارد البشرية  \n",
      "2                            غير ذلك  الاستشارات والخدمات في مجال الأعمال  \n"
     ]
    },
    {
     "name": "stderr",
     "output_type": "stream",
     "text": [
      "  1%|          | 3/422 [00:09<21:28,  3.07s/it]"
     ]
    },
    {
     "name": "stdout",
     "output_type": "stream",
     "text": [
      "200\n",
      "[{'job_title': 'VENDEDORES/AS (m/f) SPORT ZONE BEJA', 'job_description': 'Na Sport Zone estamos empenhados em criar e manter um ambiente fundamentado na cooperação e no respeito mútuo, com um compromisso sólido com a Diversidade e a Igualdade de oportunidades. Reconhecemos e valorizamos todas as pessoas, independentemente da sua identidade de género, orientação sexual, etnia, religião, idade ou condição física.Os nossos processos de seleção são conduzidos com base numa avaliação de competências, onde priorizamos a paixão, a vontade de aprender e o desejo de crescer num ambiente internacional.Procuramos jovens com uma atitude positiva, apaixonados pelo atendimento ao público, mesmo em ambientes de trabalho com ritmo acelerado. Valorizamos aqueles que encaram os desafios com entusiasmo, que os veem como oportunidades de desenvolvimento, crescimento profissional e aprendizagem de novas competências. É também essencial possuir uma excelente capacidade de comunicação e habilidade para trabalhar em equipa.No teu dia a dia, como Sales Assistant, irás:Garantir uma experiência excecional ao cliente, oferecendo um serviço de excelência;Manter-te atualizado/a sobre os produtos mais modernos e exclusivos, assegurando os padrões de vendas estabelecidos;Trabalhar com a tua equipa para alcançar objetivos de vendas e os indicadores-chave de performance (KPIs), mantendo-te informado/a sobre as tendências atuais, as promoções em loja e os processos em constante evolução.Requisitos:12º ano de escolaridade, curso técnico com a mesma equivalência ou ensino superior;Excelência no atendimento ao cliente;Boa capacidade de comunicação;Flexibilidade horária;Paixão pelo calçado e pelo ramo retalho/moda. O que temos para te oferecer:Integração num grupo multinacional;Desconto exclusivo para colaboradores e outros benefícios;Remuneração base, complementada por bónus variáveis, alinhados com os objetivos de vendas alcançados;Horários flexíveis, compatíveis com os teus estudos e necessidades pessoais;Oportunidade de formação contínua, para que possas expandir os teus conhecimentos e habilidades ao longo do tempo.Queremos conhecer-te! Se acreditas que esta oferta é ideal para ti, inscreve-te já! Avaliaremos todas as candidaturas que preencham os requisitos e entraremos em contacto para agendar uma entrevista.Sabe mais em https://pt.careers.isrg.com/O grupo:Em 1997, inauguramos a primeira loja Sport Zone em Portugal, com o grupo Sonae como promotor e seguindo uma estratégia de crescimento, em 2008, iniciámos o processo de internacionalização, abrindo a nossa primeira loja em Madrid e, em 2014, a primeira loja franchisada em Ceuta.Em janeiro de 2018, a Sport Zone, juntamente com outras duas insígnias de retalho desportivo - JD e Sprinter - formou o Iberian Sports Retail Group (ISRG), o maior retalhista da Península Ibérica no setor desportivo, com uma rede de mais de 400 lojas, 5 lojas online e uma equipa de mais de 10500 colaboradores.Já em outubro de 2023, o grupo Iberian Sports Retail Group foi adquirido pelo grupo britânico JD Group. Atualmente, o grupo ISRG é composto pelas marcas Sprinter, Sport Zone, Deporvillage e Bodytone, operando em Portugal e Espanha.Na Sport Zone, a nossa história é de paixão pelo desporto e compromisso com os nossos clientes. Com mais de 300 marcas, tanto de renome internacional como a Adidas, Nike, Puma, Reebok, Fila, Asics, quanto as nossas marcas próprias, como a Doone, Up, Silver, Ankor e Team Quest, posicionamo-nos competitivamente no mercado.Oferecemos um ambiente focado na cooperação e no respeito mútuo, com um forte compromisso pela diversidade e pela igualdade de oportunidades. Todas as pessoas serão consideradas independentemente da sua identidade de género, orientação sexual, etnia, religião, idade ou grau de incapacidade.Os nossos processos de seleção baseiam-se no modelo de avaliação por competências profissionais e valorizamos muito a paixão, a vontade de aprender e de crescer num contexto internacional.Estás interessado/a?Inscreve-te já nas nossas ofertas através do nosso site! Estamos à tua espera!Devido ao alto volume de candidaturas que recebemos, pode levar algum tempo até retornarmos o contato. Em caso de que não recebas notícias nossas após duas-três semanas, considera que decidimos avançar com outros perfis que se encaixam melhor com o que procuramos nesta fase. As candidaturas que cumpram com os requisitos serão contactadas pela equipa de Talent. Muito obrigado pelo o teu tempo e interesse!', 'company': 'Sport Zone', 'location': 'Béja, Béja, Tunisia', 'seniority': 'مستوى المبتدئين', 'employement_type': 'دوام كامل', 'job_functions': 'غير ذلك', 'industry': 'التكنولوجيا والمعلومات والإنترنت'}, {'job_title': 'Vendedor (M/F/D) Beja', 'job_description': 'Descrição da EmpresaKnower™ Especialistas em especialistas Presentes no mercado há mais de 20 anos, na Knower™ somos especialistas em especialistas e atuamos em setores de atividade tão diversos como Limpezas (Knower™ Clean), Tecnologias (Knower™ Tech), Saúde (Knower™ Care), Logística (Knower™ Industry & Logistics), Contact Center (Knower™ Contact) e Field Marketing e Ativação de Marca (Bechosen/ Knower™ Brands). O profissionalismo, rigor e especialização dos nossos profissionais permite-nos posicionar como um player de referência para o fornecimento de serviços de Outsourcing. Achas que tens o que é preciso, especialista? Descobre as nossas vagas em aberto.Descrição da FunçãoA Knower está atualmente em processo de recrutamento de Vendedor (M/F/D) para empresa nossa cliente, localizada na zona de Beja. Descrição: - Apresentação, Promoção e Venda de diversos produtos ao cliente externo; - Apoiar o cliente no esclarecimento das suas dúvidas; - Promoção de produtos e serviços de telecomunicações. Requisitos - Falar fluentemente língua portuguesa; - Discurso fluido e boa dicção; - Dinâmico, assertivo, proativo e ambicioso; - Boa capacidade de argumentação; - Lidar com cada tarefa e desafio com uma abordagem positiva e com contribuição e resiliência necessária a cada cliente. Observações Condições: - Contrato de trabalho; - Horário de Full-Time ou Part-Time; - Integração em equipa jovem e dinâmica.Localização Beja, Portugal ObservaçõesWe Know How! WE SAY HELLO TO EVERYONE! Acreditamos que o talento supera idade, identidade de género, etnias, orientações políticas ou religiosas, ultrapassa barreiras de expressão, de níveis de ensino e de limites físicos. O nosso compromisso é com o mérito de quem procura ser uma versão melhor de si todos os dias! Por este motivo, procuramos que o nosso processo de recrutamento e seleção seja inclusivo e respeite a individualidade de cada pessoa, criando uma experiência saudável e feliz para quem se cruza connosco. Qualquer questão adicional disponha!', 'company': 'Knower™', 'location': 'Béja, Béja, Tunisia', 'seniority': 'مستوى المبتدئين', 'employement_type': 'دوام كامل', 'job_functions': 'المبيعات و تطوير الأعمال التجارية', 'industry': 'خدمات الموارد البشرية'}, {'job_title': 'Oferta: ADMINISTRATIVO(A) - Beja', 'job_description': 'Oferta: ADMINISTRATIVO(A) - Beja:rhDescrição Do EmpregoADMINISTRATIVO(A) - Beja»RH»Ref: 7338978»5-12-2024»Beja»Administração / SecretariadoDetalhe Da OfertaEmpresa de soluções energéticas e comercialização de equipamentos nas áreas de AVAC, Eletricidade e Energias Renováveis, entre outras, procura administrativo(a) para reforçar a sua equipa da delegação de Beja.Referência Da Oferta Atendimento telefónico ou presencial da delegação; Controlo dos valores de caixa - recebimentos, pagamentos e cobranças; Arquivo de toda a documentação da actividade da delegação; Elaboração dos mapas financeiros.Perfil 12º ano, preferencialmente em área de secretariado ou similar; Experiência de trabalho na área administrativa; Responsabilidade, organização e dinamismo; Residência na região de Beja.Oferta Vencimento base + subsídio de alimentação; Integração em empresa sólida e equipa jovem.Referência da oferta:(a) na oferta e cumpra o perfil definido, envie a sua candidatura através do link:CompetênciasMais Ofertas de Emprego Semelhantes:', 'company': 'RH PARTNERS DO BRASIL', 'location': 'Béja, Béja, Tunisia', 'seniority': 'مستوى المبتدئين', 'employement_type': 'دوام كامل', 'job_functions': 'غير ذلك', 'industry': 'الاستشارات والخدمات في مجال الأعمال'}, {'job_title': 'Guest Service Agent', 'job_description': \"Description de l'entreprisePourquoi travailler chez Accor ?Nous sommes bien plus qu’un leader mondial. Nous vous accueillons comme vous êtes et vous pouvez trouver le métier et la marque qui correspond à votre personnalité.Nous vous accompagnons dans votre évolution et votre apprentissage au quotidien, nous nous assurons que votre travail apporte du sens à votre vie. Ainsi, durant votre expérience avec nous, vous pouvez explorer les possibilités illimitée du Groupe Accor.En rejoignant Accor, vous écrivez chaque chapitre de votre histoire et ensemble nous pouvons imaginer l’Hôtellerie de demain. Découvrez la vie qui vous attend chez Accor, https://careers.accor.com/.Faites ce que vous aimez, prenez soin du monde qui vous entoure, oser challenger le status quo ! #BELIMITLESS, Description du posteSous la direction et la supervision duFront Office et Guest service Managers et suivant les politiques établies de l'Hôtel et de l'OSM (Manuel des normes opérationnelles), ses responsabilités sont de superviser les activités des front office and Guest services agents ainsi que les chasseurs - chauffeur afin de s’assurer que les clients obtiennent une bonne première impression de notre établissement et atteigne la personne qu'ils recherchent. Superviser la gestion des échanges de communication au sein de l'hôtel avec rapidité et efficacité, en veillant à ce que toute la correspondance atteigne sa destination légitime. Superviser, gérer et planifier les activités relatives au front office et Guest service avant, pendant et à la fin du séjour incluant les opérations techniques, la gestion des systèmes, le traitement des demandes clients. , QualificationsVotre expérience et vos compétences incluent : Qualité de service essentielle une expérience similaire est un plus Maîtrise acceuil clientCoordonner avec le service bagagerie. Gérer et suivre les réclamations clients. Maîtrise de l’Anglais / FrancaisInformations supplémentairesWe are Heartists®décrit à la fois notre culture et qui nous sommes. Tout ce que nous faisons vient du cœur, et nous sommes des experts dans ce que nous faisons. Généreux, attentifs et libres, nous veillons à ce que chacun puisse venir tel qu’il est et se sentir à sa place. En tant que grande équipe, nous savons que ce n’est qu’ensemble que nous pouvons faire des choses incroyables !\", 'company': 'Mövenpick Hotels & Resorts', 'location': 'Tunis, Tunis, Tunisia', 'seniority': 'مستوى متوسط الأقدمية', 'employement_type': 'دوام كامل', 'job_functions': 'غير ذلك', 'industry': 'الضيافة'}]\n",
      "4\n",
      "                             job_title  \\\n",
      "0  VENDEDORES/AS (m/f) SPORT ZONE BEJA   \n",
      "1                Vendedor (M/F/D) Beja   \n",
      "2     Oferta: ADMINISTRATIVO(A) - Beja   \n",
      "3                  Guest Service Agent   \n",
      "\n",
      "                                     job_description  \\\n",
      "0  Na Sport Zone estamos empenhados em criar e ma...   \n",
      "1  Descrição da EmpresaKnower™ Especialistas em e...   \n",
      "2  Oferta: ADMINISTRATIVO(A) - Beja:rhDescrição D...   \n",
      "3  Description de l'entreprisePourquoi travailler...   \n",
      "\n",
      "                      company               location             seniority  \\\n",
      "0                  Sport Zone    Béja, Béja, Tunisia       مستوى المبتدئين   \n",
      "1                     Knower™    Béja, Béja, Tunisia       مستوى المبتدئين   \n",
      "2       RH PARTNERS DO BRASIL    Béja, Béja, Tunisia       مستوى المبتدئين   \n",
      "3  Mövenpick Hotels & Resorts  Tunis, Tunis, Tunisia  مستوى متوسط الأقدمية   \n",
      "\n",
      "  employement_type                      job_functions  \\\n",
      "0        دوام كامل                            غير ذلك   \n",
      "1        دوام كامل  المبيعات و تطوير الأعمال التجارية   \n",
      "2        دوام كامل                            غير ذلك   \n",
      "3        دوام كامل                            غير ذلك   \n",
      "\n",
      "                              industry  \n",
      "0     التكنولوجيا والمعلومات والإنترنت  \n",
      "1                خدمات الموارد البشرية  \n",
      "2  الاستشارات والخدمات في مجال الأعمال  \n",
      "3                              الضيافة  \n"
     ]
    },
    {
     "name": "stderr",
     "output_type": "stream",
     "text": [
      "  1%|          | 5/422 [00:12<15:15,  2.19s/it]"
     ]
    },
    {
     "name": "stdout",
     "output_type": "stream",
     "text": [
      "429\n",
      "200\n",
      "[{'job_title': 'VENDEDORES/AS (m/f) SPORT ZONE BEJA', 'job_description': 'Na Sport Zone estamos empenhados em criar e manter um ambiente fundamentado na cooperação e no respeito mútuo, com um compromisso sólido com a Diversidade e a Igualdade de oportunidades. Reconhecemos e valorizamos todas as pessoas, independentemente da sua identidade de género, orientação sexual, etnia, religião, idade ou condição física.Os nossos processos de seleção são conduzidos com base numa avaliação de competências, onde priorizamos a paixão, a vontade de aprender e o desejo de crescer num ambiente internacional.Procuramos jovens com uma atitude positiva, apaixonados pelo atendimento ao público, mesmo em ambientes de trabalho com ritmo acelerado. Valorizamos aqueles que encaram os desafios com entusiasmo, que os veem como oportunidades de desenvolvimento, crescimento profissional e aprendizagem de novas competências. É também essencial possuir uma excelente capacidade de comunicação e habilidade para trabalhar em equipa.No teu dia a dia, como Sales Assistant, irás:Garantir uma experiência excecional ao cliente, oferecendo um serviço de excelência;Manter-te atualizado/a sobre os produtos mais modernos e exclusivos, assegurando os padrões de vendas estabelecidos;Trabalhar com a tua equipa para alcançar objetivos de vendas e os indicadores-chave de performance (KPIs), mantendo-te informado/a sobre as tendências atuais, as promoções em loja e os processos em constante evolução.Requisitos:12º ano de escolaridade, curso técnico com a mesma equivalência ou ensino superior;Excelência no atendimento ao cliente;Boa capacidade de comunicação;Flexibilidade horária;Paixão pelo calçado e pelo ramo retalho/moda. O que temos para te oferecer:Integração num grupo multinacional;Desconto exclusivo para colaboradores e outros benefícios;Remuneração base, complementada por bónus variáveis, alinhados com os objetivos de vendas alcançados;Horários flexíveis, compatíveis com os teus estudos e necessidades pessoais;Oportunidade de formação contínua, para que possas expandir os teus conhecimentos e habilidades ao longo do tempo.Queremos conhecer-te! Se acreditas que esta oferta é ideal para ti, inscreve-te já! Avaliaremos todas as candidaturas que preencham os requisitos e entraremos em contacto para agendar uma entrevista.Sabe mais em https://pt.careers.isrg.com/O grupo:Em 1997, inauguramos a primeira loja Sport Zone em Portugal, com o grupo Sonae como promotor e seguindo uma estratégia de crescimento, em 2008, iniciámos o processo de internacionalização, abrindo a nossa primeira loja em Madrid e, em 2014, a primeira loja franchisada em Ceuta.Em janeiro de 2018, a Sport Zone, juntamente com outras duas insígnias de retalho desportivo - JD e Sprinter - formou o Iberian Sports Retail Group (ISRG), o maior retalhista da Península Ibérica no setor desportivo, com uma rede de mais de 400 lojas, 5 lojas online e uma equipa de mais de 10500 colaboradores.Já em outubro de 2023, o grupo Iberian Sports Retail Group foi adquirido pelo grupo britânico JD Group. Atualmente, o grupo ISRG é composto pelas marcas Sprinter, Sport Zone, Deporvillage e Bodytone, operando em Portugal e Espanha.Na Sport Zone, a nossa história é de paixão pelo desporto e compromisso com os nossos clientes. Com mais de 300 marcas, tanto de renome internacional como a Adidas, Nike, Puma, Reebok, Fila, Asics, quanto as nossas marcas próprias, como a Doone, Up, Silver, Ankor e Team Quest, posicionamo-nos competitivamente no mercado.Oferecemos um ambiente focado na cooperação e no respeito mútuo, com um forte compromisso pela diversidade e pela igualdade de oportunidades. Todas as pessoas serão consideradas independentemente da sua identidade de género, orientação sexual, etnia, religião, idade ou grau de incapacidade.Os nossos processos de seleção baseiam-se no modelo de avaliação por competências profissionais e valorizamos muito a paixão, a vontade de aprender e de crescer num contexto internacional.Estás interessado/a?Inscreve-te já nas nossas ofertas através do nosso site! Estamos à tua espera!Devido ao alto volume de candidaturas que recebemos, pode levar algum tempo até retornarmos o contato. Em caso de que não recebas notícias nossas após duas-três semanas, considera que decidimos avançar com outros perfis que se encaixam melhor com o que procuramos nesta fase. As candidaturas que cumpram com os requisitos serão contactadas pela equipa de Talent. Muito obrigado pelo o teu tempo e interesse!', 'company': 'Sport Zone', 'location': 'Béja, Béja, Tunisia', 'seniority': 'مستوى المبتدئين', 'employement_type': 'دوام كامل', 'job_functions': 'غير ذلك', 'industry': 'التكنولوجيا والمعلومات والإنترنت'}, {'job_title': 'Vendedor (M/F/D) Beja', 'job_description': 'Descrição da EmpresaKnower™ Especialistas em especialistas Presentes no mercado há mais de 20 anos, na Knower™ somos especialistas em especialistas e atuamos em setores de atividade tão diversos como Limpezas (Knower™ Clean), Tecnologias (Knower™ Tech), Saúde (Knower™ Care), Logística (Knower™ Industry & Logistics), Contact Center (Knower™ Contact) e Field Marketing e Ativação de Marca (Bechosen/ Knower™ Brands). O profissionalismo, rigor e especialização dos nossos profissionais permite-nos posicionar como um player de referência para o fornecimento de serviços de Outsourcing. Achas que tens o que é preciso, especialista? Descobre as nossas vagas em aberto.Descrição da FunçãoA Knower está atualmente em processo de recrutamento de Vendedor (M/F/D) para empresa nossa cliente, localizada na zona de Beja. Descrição: - Apresentação, Promoção e Venda de diversos produtos ao cliente externo; - Apoiar o cliente no esclarecimento das suas dúvidas; - Promoção de produtos e serviços de telecomunicações. Requisitos - Falar fluentemente língua portuguesa; - Discurso fluido e boa dicção; - Dinâmico, assertivo, proativo e ambicioso; - Boa capacidade de argumentação; - Lidar com cada tarefa e desafio com uma abordagem positiva e com contribuição e resiliência necessária a cada cliente. Observações Condições: - Contrato de trabalho; - Horário de Full-Time ou Part-Time; - Integração em equipa jovem e dinâmica.Localização Beja, Portugal ObservaçõesWe Know How! WE SAY HELLO TO EVERYONE! Acreditamos que o talento supera idade, identidade de género, etnias, orientações políticas ou religiosas, ultrapassa barreiras de expressão, de níveis de ensino e de limites físicos. O nosso compromisso é com o mérito de quem procura ser uma versão melhor de si todos os dias! Por este motivo, procuramos que o nosso processo de recrutamento e seleção seja inclusivo e respeite a individualidade de cada pessoa, criando uma experiência saudável e feliz para quem se cruza connosco. Qualquer questão adicional disponha!', 'company': 'Knower™', 'location': 'Béja, Béja, Tunisia', 'seniority': 'مستوى المبتدئين', 'employement_type': 'دوام كامل', 'job_functions': 'المبيعات و تطوير الأعمال التجارية', 'industry': 'خدمات الموارد البشرية'}, {'job_title': 'Oferta: ADMINISTRATIVO(A) - Beja', 'job_description': 'Oferta: ADMINISTRATIVO(A) - Beja:rhDescrição Do EmpregoADMINISTRATIVO(A) - Beja»RH»Ref: 7338978»5-12-2024»Beja»Administração / SecretariadoDetalhe Da OfertaEmpresa de soluções energéticas e comercialização de equipamentos nas áreas de AVAC, Eletricidade e Energias Renováveis, entre outras, procura administrativo(a) para reforçar a sua equipa da delegação de Beja.Referência Da Oferta Atendimento telefónico ou presencial da delegação; Controlo dos valores de caixa - recebimentos, pagamentos e cobranças; Arquivo de toda a documentação da actividade da delegação; Elaboração dos mapas financeiros.Perfil 12º ano, preferencialmente em área de secretariado ou similar; Experiência de trabalho na área administrativa; Responsabilidade, organização e dinamismo; Residência na região de Beja.Oferta Vencimento base + subsídio de alimentação; Integração em empresa sólida e equipa jovem.Referência da oferta:(a) na oferta e cumpra o perfil definido, envie a sua candidatura através do link:CompetênciasMais Ofertas de Emprego Semelhantes:', 'company': 'RH PARTNERS DO BRASIL', 'location': 'Béja, Béja, Tunisia', 'seniority': 'مستوى المبتدئين', 'employement_type': 'دوام كامل', 'job_functions': 'غير ذلك', 'industry': 'الاستشارات والخدمات في مجال الأعمال'}, {'job_title': 'Guest Service Agent', 'job_description': \"Description de l'entreprisePourquoi travailler chez Accor ?Nous sommes bien plus qu’un leader mondial. Nous vous accueillons comme vous êtes et vous pouvez trouver le métier et la marque qui correspond à votre personnalité.Nous vous accompagnons dans votre évolution et votre apprentissage au quotidien, nous nous assurons que votre travail apporte du sens à votre vie. Ainsi, durant votre expérience avec nous, vous pouvez explorer les possibilités illimitée du Groupe Accor.En rejoignant Accor, vous écrivez chaque chapitre de votre histoire et ensemble nous pouvons imaginer l’Hôtellerie de demain. Découvrez la vie qui vous attend chez Accor, https://careers.accor.com/.Faites ce que vous aimez, prenez soin du monde qui vous entoure, oser challenger le status quo ! #BELIMITLESS, Description du posteSous la direction et la supervision duFront Office et Guest service Managers et suivant les politiques établies de l'Hôtel et de l'OSM (Manuel des normes opérationnelles), ses responsabilités sont de superviser les activités des front office and Guest services agents ainsi que les chasseurs - chauffeur afin de s’assurer que les clients obtiennent une bonne première impression de notre établissement et atteigne la personne qu'ils recherchent. Superviser la gestion des échanges de communication au sein de l'hôtel avec rapidité et efficacité, en veillant à ce que toute la correspondance atteigne sa destination légitime. Superviser, gérer et planifier les activités relatives au front office et Guest service avant, pendant et à la fin du séjour incluant les opérations techniques, la gestion des systèmes, le traitement des demandes clients. , QualificationsVotre expérience et vos compétences incluent : Qualité de service essentielle une expérience similaire est un plus Maîtrise acceuil clientCoordonner avec le service bagagerie. Gérer et suivre les réclamations clients. Maîtrise de l’Anglais / FrancaisInformations supplémentairesWe are Heartists®décrit à la fois notre culture et qui nous sommes. Tout ce que nous faisons vient du cœur, et nous sommes des experts dans ce que nous faisons. Généreux, attentifs et libres, nous veillons à ce que chacun puisse venir tel qu’il est et se sentir à sa place. En tant que grande équipe, nous savons que ce n’est qu’ensemble que nous pouvons faire des choses incroyables !\", 'company': 'Mövenpick Hotels & Resorts', 'location': 'Tunis, Tunis, Tunisia', 'seniority': 'مستوى متوسط الأقدمية', 'employement_type': 'دوام كامل', 'job_functions': 'غير ذلك', 'industry': 'الضيافة'}, {'job_title': 'Primary school teacher', 'job_description': \"An exciting opportunity to work within a vibrant and dynamic International School in Tashkent, Uzbekistan, which boasts both the International Baccalaureate and local educational systems.About Oxbridge International SchoolWe have 200+ employees so far working with us and 50+ of them are expats. There's a firm dedication to continually train all staff members and offer leadership development opportunities across all levels. You can discover videos of the school on YouTube to gain insight into its facilities, team, and overall atmosphere. It's a fantastic chance to save money since the cost of living in Tashkent is affordable.Youtube ChannelInstagramFacebookVery competitive package is provided.Main duties and responsibilities of the job:Collaboratively planning, preparing and delivering differentiated lessonsAssessing and reporting student progressResponsible for student welfare and pastoral development of the class groupMaintaining the learning environment of the classroom and managing resourcesOrganizing and taking part in school events, trips, and extra-curricular activitiesLine management of the teaching assistantThe ideal candidate will have:At least Bachelor's degreePrevious experienceThe ability to differentiate and deliver conceptual, engaging and inquiry-based lessonsFamiliarity and experience with collaborative planning and a team-teaching approachA wonderful opportunity to discover Central Asia and work in one of the most dynamic schools of Tashkent, Uzbekistan. We have over 250 people working together to provide high quality education to the students and over 40 expats.Please note that the job requires relocation!Powered by JazzHRZF7BahB1mG\", 'company': 'Oxbridge International School', 'location': 'Tunis, Tunis, Tunisia', 'seniority': 'مستوى متوسط الأقدمية', 'employement_type': 'دوام كامل', 'job_functions': 'التعليم و التدريب', 'industry': 'النشر على الإنترنت'}]\n",
      "5\n",
      "                             job_title  \\\n",
      "0  VENDEDORES/AS (m/f) SPORT ZONE BEJA   \n",
      "1                Vendedor (M/F/D) Beja   \n",
      "2     Oferta: ADMINISTRATIVO(A) - Beja   \n",
      "3                  Guest Service Agent   \n",
      "4               Primary school teacher   \n",
      "\n",
      "                                     job_description  \\\n",
      "0  Na Sport Zone estamos empenhados em criar e ma...   \n",
      "1  Descrição da EmpresaKnower™ Especialistas em e...   \n",
      "2  Oferta: ADMINISTRATIVO(A) - Beja:rhDescrição D...   \n",
      "3  Description de l'entreprisePourquoi travailler...   \n",
      "4  An exciting opportunity to work within a vibra...   \n",
      "\n",
      "                         company               location             seniority  \\\n",
      "0                     Sport Zone    Béja, Béja, Tunisia       مستوى المبتدئين   \n",
      "1                        Knower™    Béja, Béja, Tunisia       مستوى المبتدئين   \n",
      "2          RH PARTNERS DO BRASIL    Béja, Béja, Tunisia       مستوى المبتدئين   \n",
      "3     Mövenpick Hotels & Resorts  Tunis, Tunis, Tunisia  مستوى متوسط الأقدمية   \n",
      "4  Oxbridge International School  Tunis, Tunis, Tunisia  مستوى متوسط الأقدمية   \n",
      "\n",
      "  employement_type                      job_functions  \\\n",
      "0        دوام كامل                            غير ذلك   \n",
      "1        دوام كامل  المبيعات و تطوير الأعمال التجارية   \n",
      "2        دوام كامل                            غير ذلك   \n",
      "3        دوام كامل                            غير ذلك   \n",
      "4        دوام كامل                  التعليم و التدريب   \n",
      "\n",
      "                              industry  \n",
      "0     التكنولوجيا والمعلومات والإنترنت  \n",
      "1                خدمات الموارد البشرية  \n",
      "2  الاستشارات والخدمات في مجال الأعمال  \n",
      "3                              الضيافة  \n",
      "4                   النشر على الإنترنت  \n"
     ]
    },
    {
     "name": "stderr",
     "output_type": "stream",
     "text": [
      "  1%|▏         | 6/422 [00:15<17:06,  2.47s/it]"
     ]
    },
    {
     "name": "stdout",
     "output_type": "stream",
     "text": [
      "200\n",
      "[{'job_title': 'VENDEDORES/AS (m/f) SPORT ZONE BEJA', 'job_description': 'Na Sport Zone estamos empenhados em criar e manter um ambiente fundamentado na cooperação e no respeito mútuo, com um compromisso sólido com a Diversidade e a Igualdade de oportunidades. Reconhecemos e valorizamos todas as pessoas, independentemente da sua identidade de género, orientação sexual, etnia, religião, idade ou condição física.Os nossos processos de seleção são conduzidos com base numa avaliação de competências, onde priorizamos a paixão, a vontade de aprender e o desejo de crescer num ambiente internacional.Procuramos jovens com uma atitude positiva, apaixonados pelo atendimento ao público, mesmo em ambientes de trabalho com ritmo acelerado. Valorizamos aqueles que encaram os desafios com entusiasmo, que os veem como oportunidades de desenvolvimento, crescimento profissional e aprendizagem de novas competências. É também essencial possuir uma excelente capacidade de comunicação e habilidade para trabalhar em equipa.No teu dia a dia, como Sales Assistant, irás:Garantir uma experiência excecional ao cliente, oferecendo um serviço de excelência;Manter-te atualizado/a sobre os produtos mais modernos e exclusivos, assegurando os padrões de vendas estabelecidos;Trabalhar com a tua equipa para alcançar objetivos de vendas e os indicadores-chave de performance (KPIs), mantendo-te informado/a sobre as tendências atuais, as promoções em loja e os processos em constante evolução.Requisitos:12º ano de escolaridade, curso técnico com a mesma equivalência ou ensino superior;Excelência no atendimento ao cliente;Boa capacidade de comunicação;Flexibilidade horária;Paixão pelo calçado e pelo ramo retalho/moda. O que temos para te oferecer:Integração num grupo multinacional;Desconto exclusivo para colaboradores e outros benefícios;Remuneração base, complementada por bónus variáveis, alinhados com os objetivos de vendas alcançados;Horários flexíveis, compatíveis com os teus estudos e necessidades pessoais;Oportunidade de formação contínua, para que possas expandir os teus conhecimentos e habilidades ao longo do tempo.Queremos conhecer-te! Se acreditas que esta oferta é ideal para ti, inscreve-te já! Avaliaremos todas as candidaturas que preencham os requisitos e entraremos em contacto para agendar uma entrevista.Sabe mais em https://pt.careers.isrg.com/O grupo:Em 1997, inauguramos a primeira loja Sport Zone em Portugal, com o grupo Sonae como promotor e seguindo uma estratégia de crescimento, em 2008, iniciámos o processo de internacionalização, abrindo a nossa primeira loja em Madrid e, em 2014, a primeira loja franchisada em Ceuta.Em janeiro de 2018, a Sport Zone, juntamente com outras duas insígnias de retalho desportivo - JD e Sprinter - formou o Iberian Sports Retail Group (ISRG), o maior retalhista da Península Ibérica no setor desportivo, com uma rede de mais de 400 lojas, 5 lojas online e uma equipa de mais de 10500 colaboradores.Já em outubro de 2023, o grupo Iberian Sports Retail Group foi adquirido pelo grupo britânico JD Group. Atualmente, o grupo ISRG é composto pelas marcas Sprinter, Sport Zone, Deporvillage e Bodytone, operando em Portugal e Espanha.Na Sport Zone, a nossa história é de paixão pelo desporto e compromisso com os nossos clientes. Com mais de 300 marcas, tanto de renome internacional como a Adidas, Nike, Puma, Reebok, Fila, Asics, quanto as nossas marcas próprias, como a Doone, Up, Silver, Ankor e Team Quest, posicionamo-nos competitivamente no mercado.Oferecemos um ambiente focado na cooperação e no respeito mútuo, com um forte compromisso pela diversidade e pela igualdade de oportunidades. Todas as pessoas serão consideradas independentemente da sua identidade de género, orientação sexual, etnia, religião, idade ou grau de incapacidade.Os nossos processos de seleção baseiam-se no modelo de avaliação por competências profissionais e valorizamos muito a paixão, a vontade de aprender e de crescer num contexto internacional.Estás interessado/a?Inscreve-te já nas nossas ofertas através do nosso site! Estamos à tua espera!Devido ao alto volume de candidaturas que recebemos, pode levar algum tempo até retornarmos o contato. Em caso de que não recebas notícias nossas após duas-três semanas, considera que decidimos avançar com outros perfis que se encaixam melhor com o que procuramos nesta fase. As candidaturas que cumpram com os requisitos serão contactadas pela equipa de Talent. Muito obrigado pelo o teu tempo e interesse!', 'company': 'Sport Zone', 'location': 'Béja, Béja, Tunisia', 'seniority': 'مستوى المبتدئين', 'employement_type': 'دوام كامل', 'job_functions': 'غير ذلك', 'industry': 'التكنولوجيا والمعلومات والإنترنت'}, {'job_title': 'Vendedor (M/F/D) Beja', 'job_description': 'Descrição da EmpresaKnower™ Especialistas em especialistas Presentes no mercado há mais de 20 anos, na Knower™ somos especialistas em especialistas e atuamos em setores de atividade tão diversos como Limpezas (Knower™ Clean), Tecnologias (Knower™ Tech), Saúde (Knower™ Care), Logística (Knower™ Industry & Logistics), Contact Center (Knower™ Contact) e Field Marketing e Ativação de Marca (Bechosen/ Knower™ Brands). O profissionalismo, rigor e especialização dos nossos profissionais permite-nos posicionar como um player de referência para o fornecimento de serviços de Outsourcing. Achas que tens o que é preciso, especialista? Descobre as nossas vagas em aberto.Descrição da FunçãoA Knower está atualmente em processo de recrutamento de Vendedor (M/F/D) para empresa nossa cliente, localizada na zona de Beja. Descrição: - Apresentação, Promoção e Venda de diversos produtos ao cliente externo; - Apoiar o cliente no esclarecimento das suas dúvidas; - Promoção de produtos e serviços de telecomunicações. Requisitos - Falar fluentemente língua portuguesa; - Discurso fluido e boa dicção; - Dinâmico, assertivo, proativo e ambicioso; - Boa capacidade de argumentação; - Lidar com cada tarefa e desafio com uma abordagem positiva e com contribuição e resiliência necessária a cada cliente. Observações Condições: - Contrato de trabalho; - Horário de Full-Time ou Part-Time; - Integração em equipa jovem e dinâmica.Localização Beja, Portugal ObservaçõesWe Know How! WE SAY HELLO TO EVERYONE! Acreditamos que o talento supera idade, identidade de género, etnias, orientações políticas ou religiosas, ultrapassa barreiras de expressão, de níveis de ensino e de limites físicos. O nosso compromisso é com o mérito de quem procura ser uma versão melhor de si todos os dias! Por este motivo, procuramos que o nosso processo de recrutamento e seleção seja inclusivo e respeite a individualidade de cada pessoa, criando uma experiência saudável e feliz para quem se cruza connosco. Qualquer questão adicional disponha!', 'company': 'Knower™', 'location': 'Béja, Béja, Tunisia', 'seniority': 'مستوى المبتدئين', 'employement_type': 'دوام كامل', 'job_functions': 'المبيعات و تطوير الأعمال التجارية', 'industry': 'خدمات الموارد البشرية'}, {'job_title': 'Oferta: ADMINISTRATIVO(A) - Beja', 'job_description': 'Oferta: ADMINISTRATIVO(A) - Beja:rhDescrição Do EmpregoADMINISTRATIVO(A) - Beja»RH»Ref: 7338978»5-12-2024»Beja»Administração / SecretariadoDetalhe Da OfertaEmpresa de soluções energéticas e comercialização de equipamentos nas áreas de AVAC, Eletricidade e Energias Renováveis, entre outras, procura administrativo(a) para reforçar a sua equipa da delegação de Beja.Referência Da Oferta Atendimento telefónico ou presencial da delegação; Controlo dos valores de caixa - recebimentos, pagamentos e cobranças; Arquivo de toda a documentação da actividade da delegação; Elaboração dos mapas financeiros.Perfil 12º ano, preferencialmente em área de secretariado ou similar; Experiência de trabalho na área administrativa; Responsabilidade, organização e dinamismo; Residência na região de Beja.Oferta Vencimento base + subsídio de alimentação; Integração em empresa sólida e equipa jovem.Referência da oferta:(a) na oferta e cumpra o perfil definido, envie a sua candidatura através do link:CompetênciasMais Ofertas de Emprego Semelhantes:', 'company': 'RH PARTNERS DO BRASIL', 'location': 'Béja, Béja, Tunisia', 'seniority': 'مستوى المبتدئين', 'employement_type': 'دوام كامل', 'job_functions': 'غير ذلك', 'industry': 'الاستشارات والخدمات في مجال الأعمال'}, {'job_title': 'Guest Service Agent', 'job_description': \"Description de l'entreprisePourquoi travailler chez Accor ?Nous sommes bien plus qu’un leader mondial. Nous vous accueillons comme vous êtes et vous pouvez trouver le métier et la marque qui correspond à votre personnalité.Nous vous accompagnons dans votre évolution et votre apprentissage au quotidien, nous nous assurons que votre travail apporte du sens à votre vie. Ainsi, durant votre expérience avec nous, vous pouvez explorer les possibilités illimitée du Groupe Accor.En rejoignant Accor, vous écrivez chaque chapitre de votre histoire et ensemble nous pouvons imaginer l’Hôtellerie de demain. Découvrez la vie qui vous attend chez Accor, https://careers.accor.com/.Faites ce que vous aimez, prenez soin du monde qui vous entoure, oser challenger le status quo ! #BELIMITLESS, Description du posteSous la direction et la supervision duFront Office et Guest service Managers et suivant les politiques établies de l'Hôtel et de l'OSM (Manuel des normes opérationnelles), ses responsabilités sont de superviser les activités des front office and Guest services agents ainsi que les chasseurs - chauffeur afin de s’assurer que les clients obtiennent une bonne première impression de notre établissement et atteigne la personne qu'ils recherchent. Superviser la gestion des échanges de communication au sein de l'hôtel avec rapidité et efficacité, en veillant à ce que toute la correspondance atteigne sa destination légitime. Superviser, gérer et planifier les activités relatives au front office et Guest service avant, pendant et à la fin du séjour incluant les opérations techniques, la gestion des systèmes, le traitement des demandes clients. , QualificationsVotre expérience et vos compétences incluent : Qualité de service essentielle une expérience similaire est un plus Maîtrise acceuil clientCoordonner avec le service bagagerie. Gérer et suivre les réclamations clients. Maîtrise de l’Anglais / FrancaisInformations supplémentairesWe are Heartists®décrit à la fois notre culture et qui nous sommes. Tout ce que nous faisons vient du cœur, et nous sommes des experts dans ce que nous faisons. Généreux, attentifs et libres, nous veillons à ce que chacun puisse venir tel qu’il est et se sentir à sa place. En tant que grande équipe, nous savons que ce n’est qu’ensemble que nous pouvons faire des choses incroyables !\", 'company': 'Mövenpick Hotels & Resorts', 'location': 'Tunis, Tunis, Tunisia', 'seniority': 'مستوى متوسط الأقدمية', 'employement_type': 'دوام كامل', 'job_functions': 'غير ذلك', 'industry': 'الضيافة'}, {'job_title': 'Primary school teacher', 'job_description': \"An exciting opportunity to work within a vibrant and dynamic International School in Tashkent, Uzbekistan, which boasts both the International Baccalaureate and local educational systems.About Oxbridge International SchoolWe have 200+ employees so far working with us and 50+ of them are expats. There's a firm dedication to continually train all staff members and offer leadership development opportunities across all levels. You can discover videos of the school on YouTube to gain insight into its facilities, team, and overall atmosphere. It's a fantastic chance to save money since the cost of living in Tashkent is affordable.Youtube ChannelInstagramFacebookVery competitive package is provided.Main duties and responsibilities of the job:Collaboratively planning, preparing and delivering differentiated lessonsAssessing and reporting student progressResponsible for student welfare and pastoral development of the class groupMaintaining the learning environment of the classroom and managing resourcesOrganizing and taking part in school events, trips, and extra-curricular activitiesLine management of the teaching assistantThe ideal candidate will have:At least Bachelor's degreePrevious experienceThe ability to differentiate and deliver conceptual, engaging and inquiry-based lessonsFamiliarity and experience with collaborative planning and a team-teaching approachA wonderful opportunity to discover Central Asia and work in one of the most dynamic schools of Tashkent, Uzbekistan. We have over 250 people working together to provide high quality education to the students and over 40 expats.Please note that the job requires relocation!Powered by JazzHRZF7BahB1mG\", 'company': 'Oxbridge International School', 'location': 'Tunis, Tunis, Tunisia', 'seniority': 'مستوى متوسط الأقدمية', 'employement_type': 'دوام كامل', 'job_functions': 'التعليم و التدريب', 'industry': 'النشر على الإنترنت'}, {'job_title': 'Anúncio de emprego: Copeiro (M/F) - Beja', 'job_description': 'Anúncio de emprego: Copeiro (M/F) - Beja:SERLIMADescrição Do Emprego:Copeiro (M/F) - Beja»Serlima»24-12-2024»Ref: 7364963»Beja»Hotelaria / TurismoReferência:Detalhe da Oferta:0000000891Referência Da Oferta:A Serlima Integrated Services é uma empresa especializada na prestação de serviços a todas as áreas de negócio do Grupo Serlima, enquadrada no conceito de serviços partilhados.Descrição:O/a colaborador/a ficará responsável pela limpeza de utensílios, equipamentos e instalações de acordo com os standards de exigência e condições definidas pelo cliente.Referência Da Oferta: Experiência anterior comprovada na função (fator eliminatório); Gosto pelo trabalho em equipa; Dinamismo e proatividade; Sentido de responsabilidade; Disponibilidade imediata e total.Oferta: Bom ambiente de trabalho; Remuneração compatível com a função;Responda a Esta Oferta Em:Mais Ofertas de Emprego Semelhantes:', 'company': 'Grupo Serlima', 'location': 'Béja, Béja, Tunisia', 'seniority': 'مستوى المبتدئين', 'employement_type': 'دوام كامل', 'job_functions': 'الإدارة و التصنيع', 'industry': 'خدمات المرافق'}]\n",
      "6\n",
      "                                  job_title  \\\n",
      "0       VENDEDORES/AS (m/f) SPORT ZONE BEJA   \n",
      "1                     Vendedor (M/F/D) Beja   \n",
      "2          Oferta: ADMINISTRATIVO(A) - Beja   \n",
      "3                       Guest Service Agent   \n",
      "4                    Primary school teacher   \n",
      "5  Anúncio de emprego: Copeiro (M/F) - Beja   \n",
      "\n",
      "                                     job_description  \\\n",
      "0  Na Sport Zone estamos empenhados em criar e ma...   \n",
      "1  Descrição da EmpresaKnower™ Especialistas em e...   \n",
      "2  Oferta: ADMINISTRATIVO(A) - Beja:rhDescrição D...   \n",
      "3  Description de l'entreprisePourquoi travailler...   \n",
      "4  An exciting opportunity to work within a vibra...   \n",
      "5  Anúncio de emprego: Copeiro (M/F) - Beja:SERLI...   \n",
      "\n",
      "                         company               location             seniority  \\\n",
      "0                     Sport Zone    Béja, Béja, Tunisia       مستوى المبتدئين   \n",
      "1                        Knower™    Béja, Béja, Tunisia       مستوى المبتدئين   \n",
      "2          RH PARTNERS DO BRASIL    Béja, Béja, Tunisia       مستوى المبتدئين   \n",
      "3     Mövenpick Hotels & Resorts  Tunis, Tunis, Tunisia  مستوى متوسط الأقدمية   \n",
      "4  Oxbridge International School  Tunis, Tunis, Tunisia  مستوى متوسط الأقدمية   \n",
      "5                  Grupo Serlima    Béja, Béja, Tunisia       مستوى المبتدئين   \n",
      "\n",
      "  employement_type                      job_functions  \\\n",
      "0        دوام كامل                            غير ذلك   \n",
      "1        دوام كامل  المبيعات و تطوير الأعمال التجارية   \n",
      "2        دوام كامل                            غير ذلك   \n",
      "3        دوام كامل                            غير ذلك   \n",
      "4        دوام كامل                  التعليم و التدريب   \n",
      "5        دوام كامل                  الإدارة و التصنيع   \n",
      "\n",
      "                              industry  \n",
      "0     التكنولوجيا والمعلومات والإنترنت  \n",
      "1                خدمات الموارد البشرية  \n",
      "2  الاستشارات والخدمات في مجال الأعمال  \n",
      "3                              الضيافة  \n",
      "4                   النشر على الإنترنت  \n",
      "5                        خدمات المرافق  \n"
     ]
    },
    {
     "name": "stderr",
     "output_type": "stream",
     "text": [
      "  1%|▏         | 6/422 [00:19<22:00,  3.17s/it]\n"
     ]
    },
    {
     "ename": "KeyboardInterrupt",
     "evalue": "",
     "output_type": "error",
     "traceback": [
      "\u001b[1;31m---------------------------------------------------------------------------\u001b[0m",
      "\u001b[1;31mKeyboardInterrupt\u001b[0m                         Traceback (most recent call last)",
      "Cell \u001b[1;32mIn[39], line 58\u001b[0m\n\u001b[0;32m     42\u001b[0m \u001b[38;5;28mprint\u001b[39m(\u001b[38;5;28mlen\u001b[39m(storage))\n\u001b[0;32m     43\u001b[0m \u001b[38;5;28mprint\u001b[39m(pd\u001b[38;5;241m.\u001b[39mDataFrame(storage))\n\u001b[1;32m---> 58\u001b[0m \u001b[43mtime\u001b[49m\u001b[38;5;241;43m.\u001b[39;49m\u001b[43msleep\u001b[49m\u001b[43m(\u001b[49m\u001b[38;5;241;43m2\u001b[39;49m\u001b[43m)\u001b[49m\n",
      "\u001b[1;31mKeyboardInterrupt\u001b[0m: "
     ]
    }
   ],
   "source": [
    "\n",
    "headers = {\n",
    "    'User-Agent': 'Mozilla/5.0 (Macintosh; Intel Mac OS X 10_10_1) AppleWebKit/537.36 (KHTML, like Gecko) Chrome/39.0.2171.95 Safari/537.36'\n",
    "}\n",
    "\n",
    "storage = []\n",
    "\n",
    "for u in tqdm.tqdm(urls.links):\n",
    "\n",
    "    url = u\n",
    "    english_url = url + \"?lang=en\"\n",
    "    request = requests.get(english_url, proxies={'http' : '38.54.6.39:9098'})\n",
    "    print(request.status_code)\n",
    "    \n",
    "    if request.status_code != 200:\n",
    "        continue\n",
    "    \n",
    "\n",
    "        \n",
    "        \n",
    "    soup = BeautifulSoup(request.text, 'html.parser')\n",
    "    \n",
    "    job_title = soup.find('h1', {'class': 'top-card-layout__title font-sans text-lg papabear:text-xl font-bold leading-open text-color-text mb-0 topcard__title'}).text\n",
    "    job_description = soup.find('div', {'class': 'show-more-less-html__markup show-more-less-html__markup--clamp-after-5 relative overflow-hidden'}).text.strip()\n",
    "    company = soup.find('a', {'class': 'topcard__org-name-link topcard__flavor--black-link'}).text.strip()\n",
    "    location = soup.find('span', {'class': 'topcard__flavor topcard__flavor--bullet'}).text.strip()\n",
    "    job_desc_list = soup.find('ul', {'class': 'description__job-criteria-list'}).text\n",
    "    \n",
    "    list_item = job_desc_list.split('\\n')\n",
    "    lista = []\n",
    "    for i in list_item:\n",
    "        i = i.strip()\n",
    "        if i=='' or i==' ' or i=='\\n' or i=='\\r' or i=='\\r\\n' or i=='\\xa0' or i=='\\u200b':\n",
    "            continue\n",
    "        else:\n",
    "            lista.append(i.strip())\n",
    "            \n",
    "    \n",
    "    storage.append({'job_title':job_title, 'job_description':job_description, 'company':company, 'location':location, 'seniority':lista[1], 'employement_type':lista[3], 'job_functions':lista[5], 'industry':lista[7]})\n",
    "    \n",
    "    \n",
    "    print(storage)\n",
    "    print(len(storage))\n",
    "    print(pd.DataFrame(storage))\n",
    "            \n",
    "    \n",
    "        \n",
    "    \n",
    "    \n",
    "    \n",
    "\n",
    "    \n",
    "    \n",
    "        \n",
    "        \n",
    "        \n",
    "        \n",
    "\n",
    "    time.sleep(2)\n",
    "    \n",
    "   "
   ]
  },
  {
   "cell_type": "code",
   "execution_count": 29,
   "metadata": {},
   "outputs": [],
   "source": [
    "df = pd.DataFrame(storage)"
   ]
  },
  {
   "cell_type": "code",
   "execution_count": 30,
   "metadata": {},
   "outputs": [
    {
     "data": {
      "text/html": [
       "<div>\n",
       "<style scoped>\n",
       "    .dataframe tbody tr th:only-of-type {\n",
       "        vertical-align: middle;\n",
       "    }\n",
       "\n",
       "    .dataframe tbody tr th {\n",
       "        vertical-align: top;\n",
       "    }\n",
       "\n",
       "    .dataframe thead th {\n",
       "        text-align: right;\n",
       "    }\n",
       "</style>\n",
       "<table border=\"1\" class=\"dataframe\">\n",
       "  <thead>\n",
       "    <tr style=\"text-align: right;\">\n",
       "      <th></th>\n",
       "      <th>job_title</th>\n",
       "      <th>job_description</th>\n",
       "      <th>company</th>\n",
       "      <th>location</th>\n",
       "      <th>seniority</th>\n",
       "      <th>employement_type</th>\n",
       "      <th>job_functions</th>\n",
       "      <th>industry</th>\n",
       "    </tr>\n",
       "  </thead>\n",
       "  <tbody>\n",
       "    <tr>\n",
       "      <th>0</th>\n",
       "      <td>Oferta: ADMINISTRATIVO(A) - Beja</td>\n",
       "      <td>Oferta: ADMINISTRATIVO(A) - Beja:rhDescrição D...</td>\n",
       "      <td>RH PARTNERS DO BRASIL</td>\n",
       "      <td>Béja, Béja, Tunisia</td>\n",
       "      <td>مستوى المبتدئين</td>\n",
       "      <td>دوام كامل</td>\n",
       "      <td>غير ذلك</td>\n",
       "      <td>الاستشارات والخدمات في مجال الأعمال</td>\n",
       "    </tr>\n",
       "    <tr>\n",
       "      <th>1</th>\n",
       "      <td>Appel à Candidature d’Administrateurs Indépend...</td>\n",
       "      <td>Description de l'entrepriseStartup Tunisia est...</td>\n",
       "      <td>Smart Capital</td>\n",
       "      <td>Ḥalq al-Wādī, Tunis, Tunisia</td>\n",
       "      <td>مدير تنفيذي</td>\n",
       "      <td>دوام كامل</td>\n",
       "      <td>غير ذلك</td>\n",
       "      <td>الخدمات المالية</td>\n",
       "    </tr>\n",
       "  </tbody>\n",
       "</table>\n",
       "</div>"
      ],
      "text/plain": [
       "                                           job_title  \\\n",
       "0                   Oferta: ADMINISTRATIVO(A) - Beja   \n",
       "1  Appel à Candidature d’Administrateurs Indépend...   \n",
       "\n",
       "                                     job_description                company  \\\n",
       "0  Oferta: ADMINISTRATIVO(A) - Beja:rhDescrição D...  RH PARTNERS DO BRASIL   \n",
       "1  Description de l'entrepriseStartup Tunisia est...          Smart Capital   \n",
       "\n",
       "                       location        seniority employement_type  \\\n",
       "0           Béja, Béja, Tunisia  مستوى المبتدئين        دوام كامل   \n",
       "1  Ḥalq al-Wādī, Tunis, Tunisia      مدير تنفيذي        دوام كامل   \n",
       "\n",
       "  job_functions                             industry  \n",
       "0       غير ذلك  الاستشارات والخدمات في مجال الأعمال  \n",
       "1       غير ذلك                      الخدمات المالية  "
      ]
     },
     "execution_count": 30,
     "metadata": {},
     "output_type": "execute_result"
    }
   ],
   "source": [
    "df"
   ]
  },
  {
   "cell_type": "code",
   "execution_count": 31,
   "metadata": {},
   "outputs": [],
   "source": [
    "!pip install transformers sentencepiece -q"
   ]
  },
  {
   "cell_type": "code",
   "execution_count": 3,
   "metadata": {},
   "outputs": [
    {
     "name": "stderr",
     "output_type": "stream",
     "text": [
      "c:\\Users\\nki\\Documents\\Steven Jobs\\venv\\Lib\\site-packages\\tqdm\\auto.py:21: TqdmWarning: IProgress not found. Please update jupyter and ipywidgets. See https://ipywidgets.readthedocs.io/en/stable/user_install.html\n",
      "  from .autonotebook import tqdm as notebook_tqdm\n"
     ]
    }
   ],
   "source": [
    "from transformers import pipeline"
   ]
  },
  {
   "cell_type": "code",
   "execution_count": 4,
   "metadata": {},
   "outputs": [],
   "source": [
    "pipe = pipeline(task='text2text-generation', model='facebook/m2m100_418M')"
   ]
  },
  {
   "cell_type": "code",
   "execution_count": 5,
   "metadata": {},
   "outputs": [
    {
     "data": {
      "text/plain": [
       "[{'generated_text': 'Consultancy and Services in Business'}]"
      ]
     },
     "execution_count": 5,
     "metadata": {},
     "output_type": "execute_result"
    }
   ],
   "source": [
    "pipe( 'الاستشارات والخدمات في مجال الأعمال', forced_bos_token_id=pipe.tokenizer.lang_code_to_id['en'])"
   ]
  },
  {
   "cell_type": "code",
   "execution_count": 10,
   "metadata": {},
   "outputs": [
    {
     "name": "stderr",
     "output_type": "stream",
     "text": [
      "c:\\Users\\nki\\Documents\\Steven Jobs\\venv\\Lib\\site-packages\\transformers\\models\\marian\\tokenization_marian.py:175: UserWarning: Recommended: pip install sacremoses.\n",
      "  warnings.warn(\"Recommended: pip install sacremoses.\")\n"
     ]
    }
   ],
   "source": [
    "# Use a pipeline as a high-level helper\n",
    "from transformers import pipeline\n",
    "\n",
    "pipe2 = pipeline(\"translation\", model=\"Helsinki-NLP/opus-mt-tc-big-ar-en\")"
   ]
  },
  {
   "cell_type": "code",
   "execution_count": 20,
   "metadata": {},
   "outputs": [],
   "source": [
    "l = pipe( ' غير ذلك')"
   ]
  },
  {
   "cell_type": "code",
   "execution_count": 21,
   "metadata": {},
   "outputs": [
    {
     "data": {
      "text/plain": [
       "[{'generated_text': 'Autre chose'}]"
      ]
     },
     "execution_count": 21,
     "metadata": {},
     "output_type": "execute_result"
    }
   ],
   "source": [
    "l"
   ]
  },
  {
   "cell_type": "code",
   "execution_count": null,
   "metadata": {},
   "outputs": [],
   "source": []
  }
 ],
 "metadata": {
  "kernelspec": {
   "display_name": "venv",
   "language": "python",
   "name": "python3"
  },
  "language_info": {
   "codemirror_mode": {
    "name": "ipython",
    "version": 3
   },
   "file_extension": ".py",
   "mimetype": "text/x-python",
   "name": "python",
   "nbconvert_exporter": "python",
   "pygments_lexer": "ipython3",
   "version": "3.12.4"
  }
 },
 "nbformat": 4,
 "nbformat_minor": 2
}
