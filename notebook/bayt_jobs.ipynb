{
 "cells": [
  {
   "cell_type": "code",
   "execution_count": 8,
   "metadata": {},
   "outputs": [],
   "source": [
    "from bs4 import BeautifulSoup\n",
    "import requests\n",
    "import pandas as pd\n",
    "import time\n",
    "import tqdm\n",
    "from requests_ip_rotator import ApiGateway\n",
    "\n",
    "from fake_useragent import UserAgent\n",
    "from itertools import cycle\n",
    "import random \n",
    "import selenium\n",
    "from selenium import webdriver\n",
    "from selenium.webdriver.chrome.service import Service\n",
    "from selenium.webdriver.common.keys import Keys\n",
    "from selenium.webdriver.common.by import By\n",
    "from webdriver_manager.chrome import ChromeDriverManager\n",
    "import csv\n"
   ]
  },
  {
   "cell_type": "code",
   "execution_count": null,
   "metadata": {},
   "outputs": [],
   "source": [
    "url = \"https://www.bayt.com/en/tunisia/jobs/?page=1\"\n",
    "\n",
    "service = Service(ChromeDriverManager().install())  \n",
    "driver = webdriver.Chrome(service=service)\n",
    "\n",
    "page = 1\n",
    "\n",
    "df = []\n",
    "\n",
    "while True:\n",
    "\n",
    "\n",
    "    driver.get(url)\n",
    "    time.sleep(2)\n",
    "    driver.execute_script(\"window.scrollTo(0, document.body.scrollHeight);\")\n",
    "    time.sleep(1)\n",
    "\n",
    "    link = driver.find_elements(By.CSS_SELECTOR,\".col.u-stretch.t-large.m0\")\n",
    "    \n",
    "    for l in link:\n",
    "        df.append(l.find_element(By.TAG_NAME,\"a\").get_attribute('href'))\n",
    "\n",
    "   \n",
    "    \n",
    "    page += 1\n",
    "    \n",
    "    dff = pd.DataFrame(df, columns=['links'])\n",
    "    \n",
    "    dff.to_csv('bayt_jobs_links_today.csv', index = False)\n",
    "    \n",
    "    url = f\"https://www.bayt.com/en/tunisia/jobs/?page={page}\"\n",
    "    \n",
    "    if page == 50:\n",
    "        break\n",
    "\n",
    "\n",
    "\n",
    "\n"
   ]
  },
  {
   "cell_type": "code",
   "execution_count": 5,
   "metadata": {},
   "outputs": [],
   "source": [
    "urls = pd.read_csv('bayt_jobs_links_today.csv')"
   ]
  },
  {
   "cell_type": "code",
   "execution_count": 6,
   "metadata": {},
   "outputs": [],
   "source": [
    "\n",
    "user = UserAgent()\n",
    "\n",
    "\n",
    "storage = pd.DataFrame(columns=['post_date','job_title','job_description','company','location'])\n",
    "\n",
    "def get_bayt(urls: pd.DataFrame) -> None:\n",
    "    global storage\n",
    "    for u in tqdm.tqdm(urls.links):\n",
    "        headers =  {\n",
    "            'User-Agent': user.random\n",
    "        }\n",
    "\n",
    "        url = u\n",
    "        \n",
    "       \n",
    "        try:\n",
    "            request = requests.get(url, timeout=3600 , headers= headers)\n",
    "         \n",
    "        except Exception as e :\n",
    "            print(e)\n",
    "            continue\n",
    "        \n",
    "        if request.status_code != 200:\n",
    "      \n",
    " \n",
    "            continue\n",
    "        \n",
    "            \n",
    "        soup = BeautifulSoup(request.text, 'html.parser')\n",
    "        time.sleep(2)\n",
    "        \n",
    "        post_date = soup.find('div', {'class': 't-small t-mute m10b'})\n",
    "        \n",
    "        job_title = soup.find('h1', {'class': 'h3 t-break'})\n",
    "\n",
    "        job_description = soup.find('div', {'class': 't-break'})\n",
    "\n",
    "        company = soup.find('a', {'class': 'is-black t-bold'})\n",
    "\n",
    "        location = soup.find('span', {'class': 't-mute'})\n",
    "        \n",
    "\n",
    "   \n",
    "        \n",
    "        criteria = soup.find_all('dl', {'class': 'dlist is-spaced is-fitted t-small'})\n",
    "        \n",
    "        \n",
    "        \n",
    "       \n",
    "       \n",
    "       \n",
    "        \n",
    "        a = pd.DataFrame({'post_date':post_date.text.strip().split('\\n')[0] if post_date else None,\n",
    "                        'job_title':job_title.text.strip() if job_title else None, \n",
    "                        'job_description':job_description.text.strip() if job_description else None, \n",
    "                        'company':company.text.strip() if company else None,\n",
    "                        'location':location.text.strip() if location else None, \n",
    "                        'industry': criteria[0].text.strip().split('\\n')[5] if criteria else None,\n",
    "    \n",
    "                        \n",
    "                        } , index=[0])\n",
    "\n",
    "        \n",
    "\n",
    "        storage = pd.concat([storage,a] ,axis=0)\n",
    "\n",
    "        storage.to_csv('steven_bayt_jobs.csv', index = False)\n",
    "\n",
    "\n",
    "    \n",
    "   "
   ]
  },
  {
   "cell_type": "code",
   "execution_count": 7,
   "metadata": {},
   "outputs": [
    {
     "name": "stderr",
     "output_type": "stream",
     "text": [
      " 71%|███████   | 272/382 [13:47<04:16,  2.33s/it]"
     ]
    },
    {
     "name": "stdout",
     "output_type": "stream",
     "text": [
      "('Connection aborted.', RemoteDisconnected('Remote end closed connection without response'))\n"
     ]
    },
    {
     "name": "stderr",
     "output_type": "stream",
     "text": [
      "100%|██████████| 382/382 [19:44<00:00,  3.10s/it]\n"
     ]
    }
   ],
   "source": [
    "get_bayt(urls)"
   ]
  },
  {
   "cell_type": "code",
   "execution_count": 16,
   "metadata": {},
   "outputs": [
    {
     "data": {
      "text/plain": [
       "'2024-06'"
      ]
     },
     "execution_count": 16,
     "metadata": {},
     "output_type": "execute_result"
    }
   ],
   "source": [
    "import datetime\n",
    "import re\n",
    "\n",
    "def convert_relative_date(relative_date_str):\n",
    "    \"\"\"Converts a relative date string (e.g., \"1 year ago\", \"2 months ago\") to an actual date.\"\"\"\n",
    "    relative_date_str = relative_date_str.replace(\"+\", \"\").strip()\n",
    "\n",
    "    match = re.match(r\"(\\d+) (\\w+) ago\", relative_date_str)\n",
    "    if not match:\n",
    "        return None\n",
    "\n",
    "    amount, unit = int(match.group(1)), match.group(2)\n",
    "\n",
    "    now = datetime.datetime.now()\n",
    "\n",
    "    if unit == \"year\" or unit == \"years\":\n",
    "        delta = datetime.timedelta(days=amount * 365)\n",
    "    elif unit == \"month\" or unit == \"months\":\n",
    "        delta = datetime.timedelta(days=amount * 30)  # Approximation\n",
    "    elif unit == \"day\" or unit == \"days\":\n",
    "        delta = datetime.timedelta(days=amount)\n",
    "    elif unit == \"hour\" or unit == \"hours\":\n",
    "        delta = datetime.timedelta(hours=amount)\n",
    "    elif unit == \"minute\" or unit == \"minutes\":\n",
    "        delta = datetime.timedelta(minutes=amount)\n",
    "    elif unit == \"second\" or unit == \"seconds\":\n",
    "        delta = datetime.timedelta(seconds=amount)\n",
    "    elif unit == \"week\" or unit == \"weeks\":\n",
    "        delta = datetime.timedelta(weeks=amount)\n",
    "    \n",
    "    else:\n",
    "        return None\n",
    "\n",
    "    actual_date = now - delta\n",
    "    return actual_date.strftime(\"%Y-%m\")\n",
    "\n",
    "convert_relative_date(\"7 weeks ago\")"
   ]
  },
  {
   "cell_type": "code",
   "execution_count": 17,
   "metadata": {},
   "outputs": [],
   "source": [
    "bayt = pd.read_csv('bayt_jobs_27072024.csv')"
   ]
  },
  {
   "cell_type": "code",
   "execution_count": 18,
   "metadata": {},
   "outputs": [
    {
     "data": {
      "text/html": [
       "<div>\n",
       "<style scoped>\n",
       "    .dataframe tbody tr th:only-of-type {\n",
       "        vertical-align: middle;\n",
       "    }\n",
       "\n",
       "    .dataframe tbody tr th {\n",
       "        vertical-align: top;\n",
       "    }\n",
       "\n",
       "    .dataframe thead th {\n",
       "        text-align: right;\n",
       "    }\n",
       "</style>\n",
       "<table border=\"1\" class=\"dataframe\">\n",
       "  <thead>\n",
       "    <tr style=\"text-align: right;\">\n",
       "      <th></th>\n",
       "      <th>post_date</th>\n",
       "      <th>job_title</th>\n",
       "      <th>job_description</th>\n",
       "      <th>company</th>\n",
       "      <th>location</th>\n",
       "      <th>industry</th>\n",
       "    </tr>\n",
       "  </thead>\n",
       "  <tbody>\n",
       "    <tr>\n",
       "      <th>0</th>\n",
       "      <td>49 minutes ago</td>\n",
       "      <td>Goldstar / Inside Sales Representative - French</td>\n",
       "      <td>Job Title:  Goldstar Inside Sales Representati...</td>\n",
       "      <td>National Pen</td>\n",
       "      <td>Tunis, Tunisia</td>\n",
       "      <td>Other Business Support Services</td>\n",
       "    </tr>\n",
       "    <tr>\n",
       "      <th>1</th>\n",
       "      <td>37 minutes ago</td>\n",
       "      <td>Senior Recruiter</td>\n",
       "      <td>Location: Tunis, TN, 1053 Senior RecruiterThe ...</td>\n",
       "      <td>Vistaprint</td>\n",
       "      <td>Tunis, Tunisia</td>\n",
       "      <td>Other Business Support Services</td>\n",
       "    </tr>\n",
       "    <tr>\n",
       "      <th>2</th>\n",
       "      <td>20 minutes ago</td>\n",
       "      <td>Research Associate - Rangeland Landscape Ecology</td>\n",
       "      <td>Research Associate - Rangeland Landscape Ecolo...</td>\n",
       "      <td>CGIAR System Reference Group</td>\n",
       "      <td>Tunisia</td>\n",
       "      <td>Other Business Support Services</td>\n",
       "    </tr>\n",
       "  </tbody>\n",
       "</table>\n",
       "</div>"
      ],
      "text/plain": [
       "        post_date                                         job_title  \\\n",
       "0  49 minutes ago   Goldstar / Inside Sales Representative - French   \n",
       "1  37 minutes ago                                  Senior Recruiter   \n",
       "2  20 minutes ago  Research Associate - Rangeland Landscape Ecology   \n",
       "\n",
       "                                     job_description  \\\n",
       "0  Job Title:  Goldstar Inside Sales Representati...   \n",
       "1  Location: Tunis, TN, 1053 Senior RecruiterThe ...   \n",
       "2  Research Associate - Rangeland Landscape Ecolo...   \n",
       "\n",
       "                        company        location  \\\n",
       "0                  National Pen  Tunis, Tunisia   \n",
       "1                    Vistaprint  Tunis, Tunisia   \n",
       "2  CGIAR System Reference Group         Tunisia   \n",
       "\n",
       "                          industry  \n",
       "0  Other Business Support Services  \n",
       "1  Other Business Support Services  \n",
       "2  Other Business Support Services  "
      ]
     },
     "execution_count": 18,
     "metadata": {},
     "output_type": "execute_result"
    }
   ],
   "source": [
    "bayt.head(3)"
   ]
  },
  {
   "cell_type": "code",
   "execution_count": 19,
   "metadata": {},
   "outputs": [],
   "source": [
    "bayt.post_date = bayt.post_date.apply(lambda x: convert_relative_date(str(x)))"
   ]
  },
  {
   "cell_type": "code",
   "execution_count": 20,
   "metadata": {},
   "outputs": [],
   "source": [
    "bayt.to_csv('bayt_jobs_27072024.csv',index=False)"
   ]
  },
  {
   "cell_type": "code",
   "execution_count": null,
   "metadata": {},
   "outputs": [],
   "source": []
  }
 ],
 "metadata": {
  "kernelspec": {
   "display_name": "venv",
   "language": "python",
   "name": "python3"
  },
  "language_info": {
   "codemirror_mode": {
    "name": "ipython",
    "version": 3
   },
   "file_extension": ".py",
   "mimetype": "text/x-python",
   "name": "python",
   "nbconvert_exporter": "python",
   "pygments_lexer": "ipython3",
   "version": "3.12.4"
  }
 },
 "nbformat": 4,
 "nbformat_minor": 2
}
