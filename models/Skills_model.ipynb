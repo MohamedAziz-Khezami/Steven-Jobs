{
 "cells": [
  {
   "cell_type": "code",
   "execution_count": 1,
   "metadata": {},
   "outputs": [],
   "source": [
    "import spacy"
   ]
  },
  {
   "cell_type": "code",
   "execution_count": 15,
   "metadata": {},
   "outputs": [],
   "source": [
    "nlp = spacy.load(\"en_core_web_sm\")"
   ]
  },
  {
   "cell_type": "code",
   "execution_count": 3,
   "metadata": {},
   "outputs": [
    {
     "data": {
      "text/plain": [
       "['tok2vec', 'tagger', 'parser', 'attribute_ruler', 'lemmatizer', 'ner']"
      ]
     },
     "execution_count": 3,
     "metadata": {},
     "output_type": "execute_result"
    }
   ],
   "source": [
    "nlp.pipe_names"
   ]
  },
  {
   "cell_type": "code",
   "execution_count": 7,
   "metadata": {},
   "outputs": [],
   "source": [
    "text = nlp('tesla inc is going to acquire twitter for 2 billions')"
   ]
  },
  {
   "cell_type": "code",
   "execution_count": 8,
   "metadata": {},
   "outputs": [
    {
     "name": "stdout",
     "output_type": "stream",
     "text": [
      "tesla inc ORG Companies, agencies, institutions, etc.\n",
      "2 billions MONEY Monetary values, including unit\n"
     ]
    }
   ],
   "source": [
    "for ent in text.ents:\n",
    "    print(ent.text, ent.label_, spacy.explain(ent.label_))"
   ]
  },
  {
   "cell_type": "code",
   "execution_count": 10,
   "metadata": {},
   "outputs": [],
   "source": [
    "from spacy import displacy"
   ]
  },
  {
   "cell_type": "code",
   "execution_count": 11,
   "metadata": {},
   "outputs": [
    {
     "data": {
      "text/html": [
       "<span class=\"tex2jax_ignore\"><div class=\"entities\" style=\"line-height: 2.5; direction: ltr\">\n",
       "<mark class=\"entity\" style=\"background: #7aecec; padding: 0.45em 0.6em; margin: 0 0.25em; line-height: 1; border-radius: 0.35em;\">\n",
       "    tesla inc\n",
       "    <span style=\"font-size: 0.8em; font-weight: bold; line-height: 1; border-radius: 0.35em; vertical-align: middle; margin-left: 0.5rem\">ORG</span>\n",
       "</mark>\n",
       " is going to acquire twitter for \n",
       "<mark class=\"entity\" style=\"background: #e4e7d2; padding: 0.45em 0.6em; margin: 0 0.25em; line-height: 1; border-radius: 0.35em;\">\n",
       "    2 billions\n",
       "    <span style=\"font-size: 0.8em; font-weight: bold; line-height: 1; border-radius: 0.35em; vertical-align: middle; margin-left: 0.5rem\">MONEY</span>\n",
       "</mark>\n",
       "</div></span>"
      ],
      "text/plain": [
       "<IPython.core.display.HTML object>"
      ]
     },
     "metadata": {},
     "output_type": "display_data"
    }
   ],
   "source": [
    "displacy.render(text, style='ent', jupyter=True)"
   ]
  },
  {
   "cell_type": "code",
   "execution_count": 12,
   "metadata": {},
   "outputs": [
    {
     "data": {
      "text/plain": [
       "['CARDINAL',\n",
       " 'DATE',\n",
       " 'EVENT',\n",
       " 'FAC',\n",
       " 'GPE',\n",
       " 'LANGUAGE',\n",
       " 'LAW',\n",
       " 'LOC',\n",
       " 'MONEY',\n",
       " 'NORP',\n",
       " 'ORDINAL',\n",
       " 'ORG',\n",
       " 'PERCENT',\n",
       " 'PERSON',\n",
       " 'PRODUCT',\n",
       " 'QUANTITY',\n",
       " 'TIME',\n",
       " 'WORK_OF_ART']"
      ]
     },
     "execution_count": 12,
     "metadata": {},
     "output_type": "execute_result"
    }
   ],
   "source": [
    "nlp.pipe_labels['ner']"
   ]
  },
  {
   "cell_type": "code",
   "execution_count": 25,
   "metadata": {},
   "outputs": [
    {
     "name": "stdout",
     "output_type": "stream",
     "text": [
      "loading full_matcher ...\n",
      "loading abv_matcher ...\n",
      "loading full_uni_matcher ...\n",
      "loading low_form_matcher ...\n",
      "loading token_matcher ...\n"
     ]
    }
   ],
   "source": [
    "# imports\n",
    "import spacy\n",
    "from spacy.matcher import PhraseMatcher\n",
    "\n",
    "# load default skills data base\n",
    "from skillNer.general_params import SKILL_DB\n",
    "# import skill extractor\n",
    "from skillNer.skill_extractor_class import SkillExtractor\n",
    "\n",
    "# init params of skill extractor\n",
    "nlp = spacy.load(\"en_core_web_lg\")\n",
    "# init skill extractor\n",
    "skill_extractor = SkillExtractor(nlp, SKILL_DB, PhraseMatcher)\n",
    "\n"
   ]
  },
  {
   "cell_type": "code",
   "execution_count": 26,
   "metadata": {},
   "outputs": [],
   "source": [
    "import pandas as pd"
   ]
  },
  {
   "cell_type": "code",
   "execution_count": 46,
   "metadata": {},
   "outputs": [
    {
     "name": "stderr",
     "output_type": "stream",
     "text": [
      "c:\\Users\\nki\\Documents\\Steven Jobs\\venv\\Lib\\site-packages\\skillNer\\utils.py:99: UserWarning: [W008] Evaluating Token.similarity based on empty vectors.\n",
      "  vec_similarity = token1.similarity(token2)\n"
     ]
    }
   ],
   "source": [
    "# extract skills from job_description\n",
    "job_description = \"\"\"\n",
    "2024-07-01,Part-time Teacher of English,\"We support peace and prosperity by building connections, understanding and trust between people in the UK and countries worldwide.We work directly with individuals to help them gain the skills, confidence and connections to transform their lives and shape a better world in partnership with the UK. We support them to build networks and explore creative ideas, to learn English, to get a high-quality education and to gain internationally recognised qualifications.Working with people in over 200 countries and territories, we are on the ground in more than 100 countries. In 2021–22 we reached 650 million people.What's it like to work at the British Council as a Teacher? Teacher's Success StoryRole Purpose:To promote and ensure quality teaching and effective learning of English.To support the wider aims of British Council and its cultural relations mission.To engage in continued professional development in order to keep up-to-date with developments in the field and to facilitate consistent provision of high quality teachingMain Accountabilities But Not Limited To The Following: Planning, preparing and delivering high quality English language teaching that meets the needs of different customer groups taking into account individual learning styles.Monitoring progress and provide regular feedback to help manage students’ performance throughout the course, and actively promote learner autonomy.Contributing to the development, evaluation, and improvement of English language courses, materials and related services.Ensuring teaching meets the standards expected in Teaching and Learning Reviews, the annual Academic Quality Plans and organisational expectations.Using technology during lessons when required.Finishing administrative tasks in a timely and accurate manner.Contributing to the development of lasting, mutually beneficial relationships by enhancing students’ understanding of the contemporary UK.Assisting in covering classes for colleagues.Actively engaging in professional development and performance management to ensure quality and high standards in teaching and learning and maintain British Council’s position at the forefront of best ELT practices.Supporting local marketing and promotional strategy and assist the teaching centre team in delivering excellent customer service. Ensuring safeguarding and other guidelines are applied and upheld in line with standards and policy for the following areas:Child protectionEquality, diversity and inclusionHealth and safetyQualification EssentialsCambridge CELTA or Trinity Certificate TESOLBachelor's degree (in any discipline)DesirablesCambridge DELTA or Trinity Diploma and or equivalentPostgraduate Certificate in Education or Bachelor of Education (PGCE) or Bachelor of Education (B.Ed). in primary or secondary.Teaching Young Learners Extension Certificate (TYLEC) or Certificate in English Language Teaching to Young Learners (CELTYL)MA (TESOL or another related subject)EssentialsWork Experience A minimum of 2 years post-certificate i.e. CELTA/Trinity certificate TESOL experience gained from teaching a variety of age groups and levels from young learners through to adults. For internal applicants, they should successfully completed the Teacher Support Program (TSP)Applicants should have experience in teaching two or more of the following age groups:Young learners aged 6 to 12 (600+ hours)Young learners aged 13 to 17 (600+hours)Adults aged 18+ 1800+ hours)DesirablesExperience teaching with British Council global products for adults and young learnersExperience teaching Business Communication Skills, ESP, IELTS preparation courses or A0/A1 level studentsRecent experience working in a teaching context similar to the British Council Experience collaborating and working with teams both virtually and in-person Salary & Benefits: Salary: 2287.5 TND/month GrossAnnual Leave allowances: You will be entitled to leave at the rate of 35 working days per annum earned based on a 5-day week, for each 12 months served at the British Council in TunisiaMedical allowance: You will be registered on the local health insurance scheme (COMAR), where you will be expected to make a contribution of 2.25% with the British Council contributing 6.75%.Inbound Flight (if recruited outside of Tunisia)- Economy flight for self, spouse, and dependents of 21 years or younger Settling-In allowance (if recruited outside of Tunisia)7% annual base salary for single10% annual base salary for accompaniedCapped at GBP8,000One-off payment with the first month's salarySettling-In Leave (if recruited outside of Tunisia) - Settling-in leave for 3 daysTemporary Accommodation (if recruited outside of Tunisia) - 2 weeks of temporary accommodationAdditional Information:Contract Length: 24 MonthsRenewable Period: 12 MonthsLocation – Tunis, TunisiaTeaching Hours - 18 fixed Hours/WeekWork Schedule - Monday- Friday / Tuesday- Saturday / Wednesday- Sunday (depending on the teaching requirement)Right to Work/Passport Requirement: Candidates are expected to have researched whether they have the right to live and work in the country in which the role is based. Given that our offices have different legal statuses depending on the work we do in those countries, we recommend that you contact HR in the country for additional information on the likelihood of securing a visa. Only at its discretion will the British Council provide support so please check first whether visa support is offered. Visa Support - Immigration and visa support given to employees with married dependents and their children for up to 5 years. Unmarried men/women with an accompanying partner will get visa supportWe are unable to employ teachers who are 58 years old or older due to the Tunisian retirement age.Closing date & time: Wednesday, 31 July 2024 (23:59 Indian Standard Time)A connected and trusted UK in a more connected and trusted world.Equality , Diversity, and Inclusion (EDI) StatementThe British Council is committed to policies and practices of equality, diversity and inclusion across everything we do. We support all staff to make sure their behaviour is consistent with this commitment. We want to address under representation and encourage applicants from under-represented groups, in particular, but not exclusively, on grounds of ethnicity and disability. All disabled applicants who meet the essential criteria are guaranteed an interview and we have Disability Confident Employer Status. We welcome discussions about specific requirements or adjustments to enable participation and engagement in our work and activities.The British Council is committed to safeguarding children, young people and adults who we work with.We believe that all children and adults everywhere in the world deserve to live in safe environments and have the right to be protected from all forms of abuse, maltreatment and exploitation as set out in article 19, UNCRC (United Nations Convention on the Rights of the Child) 1989.Appointment to positions where there is direct involvement with vulnerable groups will be dependent on thorough checks being completed; these will include qualification checks, reference checks, identity & criminal record checks in line with legal requirements and with the British Council’s Safeguarding policies for Adults and Children.If you have any problems with your application please email  askhr@britishcouncil.orgPlease note: Applications to this role can only be considered when made through the Apply section of our careers website. Our ‘ASK HR’ email is only to be used in case of a technical issue encountered when applying through the careers website. Emails with supporting statements and CV/Resumes sent to this email address will not be reviewed and will be deleted.\",British Council,\"Tunis, Tunis, Tunisia\",Not Applicable,Full-time,Education and Training,Non-profit Organizations and Education Administration Programs\n",
    "\n",
    "\n",
    "\"\"\"\n",
    "\n",
    "annotations = skill_extractor.annotate(job_description)"
   ]
  },
  {
   "cell_type": "code",
   "execution_count": null,
   "metadata": {},
   "outputs": [],
   "source": []
  },
  {
   "cell_type": "code",
   "execution_count": 47,
   "metadata": {},
   "outputs": [],
   "source": [
    "\n",
    "skills = []\n",
    "\n",
    "for i in range(len(annotations['results']['ngram_scored'])):\n",
    "\n",
    "\n",
    "    s = annotations['results']['ngram_scored'][i]['doc_node_value']\n",
    "    \n",
    "    skills.append(s)"
   ]
  },
  {
   "cell_type": "code",
   "execution_count": 48,
   "metadata": {},
   "outputs": [
    {
     "data": {
      "text/plain": [
       "['english',\n",
       " 'creative',\n",
       " 'english',\n",
       " 'teacher teacher',\n",
       " 'teaching',\n",
       " 'english',\n",
       " 'professional development',\n",
       " 'accountabilities',\n",
       " 'planning',\n",
       " 'teaching',\n",
       " 'account individual',\n",
       " 'individual learning',\n",
       " 'individual learning',\n",
       " 'learning styles',\n",
       " 'monitoring progress',\n",
       " 'manage',\n",
       " 'actively',\n",
       " 'teaching',\n",
       " 'teaching',\n",
       " 'plans',\n",
       " 'actively',\n",
       " 'professional development',\n",
       " 'teaching',\n",
       " 'maintain',\n",
       " 'position',\n",
       " 'teaching',\n",
       " 'b',\n",
       " 'teaching',\n",
       " 'teaching',\n",
       " 'e',\n",
       " 'levels',\n",
       " 'teaching',\n",
       " 'teaching',\n",
       " 'teaching',\n",
       " 'level',\n",
       " 'teaching',\n",
       " 'collaborating',\n",
       " 'virtually',\n",
       " 'person',\n",
       " 'scheme',\n",
       " 'economy',\n",
       " 'tunis',\n",
       " 'schedule',\n",
       " 'teaching',\n",
       " 'researched',\n",
       " 'additional',\n",
       " 'discretion',\n",
       " 'closing',\n",
       " 'equality',\n",
       " 'equality',\n",
       " 'disability',\n",
       " 'disabled',\n",
       " 'disability',\n",
       " 'specific requirements',\n",
       " 'activities',\n",
       " 'safe',\n",
       " 'exploitation',\n",
       " 'article',\n",
       " 'positions',\n",
       " 'vulnerable',\n",
       " 'note applications',\n",
       " 'tunis tunis',\n",
       " 'education administration',\n",
       " 'education administration']"
      ]
     },
     "execution_count": 48,
     "metadata": {},
     "output_type": "execute_result"
    }
   ],
   "source": [
    "skills"
   ]
  },
  {
   "cell_type": "code",
   "execution_count": 50,
   "metadata": {},
   "outputs": [],
   "source": [
    "job = pd.read_csv(r'C:\\Users\\nki\\Documents\\Steven Jobs\\lntest27072024.csv')"
   ]
  },
  {
   "cell_type": "code",
   "execution_count": 51,
   "metadata": {},
   "outputs": [
    {
     "data": {
      "text/html": [
       "<div>\n",
       "<style scoped>\n",
       "    .dataframe tbody tr th:only-of-type {\n",
       "        vertical-align: middle;\n",
       "    }\n",
       "\n",
       "    .dataframe tbody tr th {\n",
       "        vertical-align: top;\n",
       "    }\n",
       "\n",
       "    .dataframe thead th {\n",
       "        text-align: right;\n",
       "    }\n",
       "</style>\n",
       "<table border=\"1\" class=\"dataframe\">\n",
       "  <thead>\n",
       "    <tr style=\"text-align: right;\">\n",
       "      <th></th>\n",
       "      <th>post_date</th>\n",
       "      <th>job_title</th>\n",
       "      <th>job_description</th>\n",
       "      <th>company</th>\n",
       "      <th>location</th>\n",
       "      <th>seniority</th>\n",
       "      <th>employement_type</th>\n",
       "      <th>job_functions</th>\n",
       "      <th>industry</th>\n",
       "    </tr>\n",
       "  </thead>\n",
       "  <tbody>\n",
       "    <tr>\n",
       "      <th>0</th>\n",
       "      <td>2024-07-01</td>\n",
       "      <td>Receipt (H/F/X)</td>\n",
       "      <td>Description de l'entreprisePourquoi travailler...</td>\n",
       "      <td>Mövenpick Hotels &amp; Resorts</td>\n",
       "      <td>Tunis, Tunis, Tunisia</td>\n",
       "      <td>Not Applicable</td>\n",
       "      <td>Full-time</td>\n",
       "      <td>Administrative</td>\n",
       "      <td>Hospitality</td>\n",
       "    </tr>\n",
       "    <tr>\n",
       "      <th>1</th>\n",
       "      <td>2024-07-01</td>\n",
       "      <td>Financial Assistant(s) (Online, Full Time)</td>\n",
       "      <td>Entreprise : AzurreoLieu : À Distance (télétra...</td>\n",
       "      <td>Azurreo</td>\n",
       "      <td>Tunisia</td>\n",
       "      <td>Entry level</td>\n",
       "      <td>Full-time</td>\n",
       "      <td>Finance</td>\n",
       "      <td>Telecommunications</td>\n",
       "    </tr>\n",
       "    <tr>\n",
       "      <th>2</th>\n",
       "      <td>2024-07-01</td>\n",
       "      <td>Guest Service Manager</td>\n",
       "      <td>Description de l'entreprisePourquoi travailler...</td>\n",
       "      <td>Mövenpick Hotels &amp; Resorts</td>\n",
       "      <td>Tunis, Tunis, Tunisia</td>\n",
       "      <td>Not Applicable</td>\n",
       "      <td>Full-time</td>\n",
       "      <td>Other</td>\n",
       "      <td>Hospitality</td>\n",
       "    </tr>\n",
       "    <tr>\n",
       "      <th>3</th>\n",
       "      <td>2024-07-01</td>\n",
       "      <td>Call for Independent Administrators' candidacy...</td>\n",
       "      <td>Description de l'entrepriseStartup Tunisia est...</td>\n",
       "      <td>Smart Capital</td>\n",
       "      <td>Ḥalq al-Wādī, Tunis, Tunisia</td>\n",
       "      <td>Executive</td>\n",
       "      <td>Full-time</td>\n",
       "      <td>Other</td>\n",
       "      <td>Financial Services</td>\n",
       "    </tr>\n",
       "    <tr>\n",
       "      <th>4</th>\n",
       "      <td>2023-07-01</td>\n",
       "      <td>Job notice: Copy (M/F) - Beja</td>\n",
       "      <td>Anúncio de emprego: Copeiro (M/F) - Beja:SERLI...</td>\n",
       "      <td>Grupo Serlima</td>\n",
       "      <td>Béja, Béja, Tunisia</td>\n",
       "      <td>Entry level</td>\n",
       "      <td>Full-time</td>\n",
       "      <td>Management and Manufacturing</td>\n",
       "      <td>Facilities Services</td>\n",
       "    </tr>\n",
       "  </tbody>\n",
       "</table>\n",
       "</div>"
      ],
      "text/plain": [
       "    post_date                                          job_title  \\\n",
       "0  2024-07-01                                    Receipt (H/F/X)   \n",
       "1  2024-07-01         Financial Assistant(s) (Online, Full Time)   \n",
       "2  2024-07-01                              Guest Service Manager   \n",
       "3  2024-07-01  Call for Independent Administrators' candidacy...   \n",
       "4  2023-07-01                      Job notice: Copy (M/F) - Beja   \n",
       "\n",
       "                                     job_description  \\\n",
       "0  Description de l'entreprisePourquoi travailler...   \n",
       "1  Entreprise : AzurreoLieu : À Distance (télétra...   \n",
       "2  Description de l'entreprisePourquoi travailler...   \n",
       "3  Description de l'entrepriseStartup Tunisia est...   \n",
       "4  Anúncio de emprego: Copeiro (M/F) - Beja:SERLI...   \n",
       "\n",
       "                      company                      location       seniority  \\\n",
       "0  Mövenpick Hotels & Resorts         Tunis, Tunis, Tunisia  Not Applicable   \n",
       "1                     Azurreo                       Tunisia     Entry level   \n",
       "2  Mövenpick Hotels & Resorts         Tunis, Tunis, Tunisia  Not Applicable   \n",
       "3               Smart Capital  Ḥalq al-Wādī, Tunis, Tunisia       Executive   \n",
       "4               Grupo Serlima           Béja, Béja, Tunisia     Entry level   \n",
       "\n",
       "  employement_type                 job_functions             industry  \n",
       "0        Full-time                Administrative          Hospitality  \n",
       "1        Full-time                       Finance   Telecommunications  \n",
       "2        Full-time                         Other          Hospitality  \n",
       "3        Full-time                         Other   Financial Services  \n",
       "4        Full-time  Management and Manufacturing  Facilities Services  "
      ]
     },
     "execution_count": 51,
     "metadata": {},
     "output_type": "execute_result"
    }
   ],
   "source": [
    "job.head()"
   ]
  },
  {
   "cell_type": "code",
   "execution_count": 56,
   "metadata": {},
   "outputs": [],
   "source": [
    "jobs = job.iloc[0:5]"
   ]
  },
  {
   "cell_type": "code",
   "execution_count": 57,
   "metadata": {},
   "outputs": [
    {
     "data": {
      "text/html": [
       "<div>\n",
       "<style scoped>\n",
       "    .dataframe tbody tr th:only-of-type {\n",
       "        vertical-align: middle;\n",
       "    }\n",
       "\n",
       "    .dataframe tbody tr th {\n",
       "        vertical-align: top;\n",
       "    }\n",
       "\n",
       "    .dataframe thead th {\n",
       "        text-align: right;\n",
       "    }\n",
       "</style>\n",
       "<table border=\"1\" class=\"dataframe\">\n",
       "  <thead>\n",
       "    <tr style=\"text-align: right;\">\n",
       "      <th></th>\n",
       "      <th>post_date</th>\n",
       "      <th>job_title</th>\n",
       "      <th>job_description</th>\n",
       "      <th>company</th>\n",
       "      <th>location</th>\n",
       "      <th>seniority</th>\n",
       "      <th>employement_type</th>\n",
       "      <th>job_functions</th>\n",
       "      <th>industry</th>\n",
       "    </tr>\n",
       "  </thead>\n",
       "  <tbody>\n",
       "    <tr>\n",
       "      <th>0</th>\n",
       "      <td>2024-07-01</td>\n",
       "      <td>Receipt (H/F/X)</td>\n",
       "      <td>Description de l'entreprisePourquoi travailler...</td>\n",
       "      <td>Mövenpick Hotels &amp; Resorts</td>\n",
       "      <td>Tunis, Tunis, Tunisia</td>\n",
       "      <td>Not Applicable</td>\n",
       "      <td>Full-time</td>\n",
       "      <td>Administrative</td>\n",
       "      <td>Hospitality</td>\n",
       "    </tr>\n",
       "    <tr>\n",
       "      <th>1</th>\n",
       "      <td>2024-07-01</td>\n",
       "      <td>Financial Assistant(s) (Online, Full Time)</td>\n",
       "      <td>Entreprise : AzurreoLieu : À Distance (télétra...</td>\n",
       "      <td>Azurreo</td>\n",
       "      <td>Tunisia</td>\n",
       "      <td>Entry level</td>\n",
       "      <td>Full-time</td>\n",
       "      <td>Finance</td>\n",
       "      <td>Telecommunications</td>\n",
       "    </tr>\n",
       "    <tr>\n",
       "      <th>2</th>\n",
       "      <td>2024-07-01</td>\n",
       "      <td>Guest Service Manager</td>\n",
       "      <td>Description de l'entreprisePourquoi travailler...</td>\n",
       "      <td>Mövenpick Hotels &amp; Resorts</td>\n",
       "      <td>Tunis, Tunis, Tunisia</td>\n",
       "      <td>Not Applicable</td>\n",
       "      <td>Full-time</td>\n",
       "      <td>Other</td>\n",
       "      <td>Hospitality</td>\n",
       "    </tr>\n",
       "    <tr>\n",
       "      <th>3</th>\n",
       "      <td>2024-07-01</td>\n",
       "      <td>Call for Independent Administrators' candidacy...</td>\n",
       "      <td>Description de l'entrepriseStartup Tunisia est...</td>\n",
       "      <td>Smart Capital</td>\n",
       "      <td>Ḥalq al-Wādī, Tunis, Tunisia</td>\n",
       "      <td>Executive</td>\n",
       "      <td>Full-time</td>\n",
       "      <td>Other</td>\n",
       "      <td>Financial Services</td>\n",
       "    </tr>\n",
       "    <tr>\n",
       "      <th>4</th>\n",
       "      <td>2023-07-01</td>\n",
       "      <td>Job notice: Copy (M/F) - Beja</td>\n",
       "      <td>Anúncio de emprego: Copeiro (M/F) - Beja:SERLI...</td>\n",
       "      <td>Grupo Serlima</td>\n",
       "      <td>Béja, Béja, Tunisia</td>\n",
       "      <td>Entry level</td>\n",
       "      <td>Full-time</td>\n",
       "      <td>Management and Manufacturing</td>\n",
       "      <td>Facilities Services</td>\n",
       "    </tr>\n",
       "  </tbody>\n",
       "</table>\n",
       "</div>"
      ],
      "text/plain": [
       "    post_date                                          job_title  \\\n",
       "0  2024-07-01                                    Receipt (H/F/X)   \n",
       "1  2024-07-01         Financial Assistant(s) (Online, Full Time)   \n",
       "2  2024-07-01                              Guest Service Manager   \n",
       "3  2024-07-01  Call for Independent Administrators' candidacy...   \n",
       "4  2023-07-01                      Job notice: Copy (M/F) - Beja   \n",
       "\n",
       "                                     job_description  \\\n",
       "0  Description de l'entreprisePourquoi travailler...   \n",
       "1  Entreprise : AzurreoLieu : À Distance (télétra...   \n",
       "2  Description de l'entreprisePourquoi travailler...   \n",
       "3  Description de l'entrepriseStartup Tunisia est...   \n",
       "4  Anúncio de emprego: Copeiro (M/F) - Beja:SERLI...   \n",
       "\n",
       "                      company                      location       seniority  \\\n",
       "0  Mövenpick Hotels & Resorts         Tunis, Tunis, Tunisia  Not Applicable   \n",
       "1                     Azurreo                       Tunisia     Entry level   \n",
       "2  Mövenpick Hotels & Resorts         Tunis, Tunis, Tunisia  Not Applicable   \n",
       "3               Smart Capital  Ḥalq al-Wādī, Tunis, Tunisia       Executive   \n",
       "4               Grupo Serlima           Béja, Béja, Tunisia     Entry level   \n",
       "\n",
       "  employement_type                 job_functions             industry  \n",
       "0        Full-time                Administrative          Hospitality  \n",
       "1        Full-time                       Finance   Telecommunications  \n",
       "2        Full-time                         Other          Hospitality  \n",
       "3        Full-time                         Other   Financial Services  \n",
       "4        Full-time  Management and Manufacturing  Facilities Services  "
      ]
     },
     "execution_count": 57,
     "metadata": {},
     "output_type": "execute_result"
    }
   ],
   "source": [
    "jobs"
   ]
  },
  {
   "cell_type": "code",
   "execution_count": 97,
   "metadata": {},
   "outputs": [],
   "source": [
    "from transformers import pipeline\n",
    "\n",
    "Translator = pipeline(\"translation\", model=\"Helsinki-NLP/opus-mt-mul-en\")"
   ]
  },
  {
   "cell_type": "code",
   "execution_count": 114,
   "metadata": {},
   "outputs": [],
   "source": [
    "def split_text(text, max_len=500):\n",
    "\n",
    "\n",
    "  chunks = []\n",
    "  start = 0\n",
    "  end = max_len\n",
    "\n",
    "  while start < len(text):\n",
    "    chunk = text[start:end]\n",
    "    chunks.append(chunk)\n",
    "    start = end\n",
    "    end += max_len\n",
    "\n",
    "  return chunks"
   ]
  },
  {
   "cell_type": "code",
   "execution_count": 124,
   "metadata": {},
   "outputs": [
    {
     "name": "stdout",
     "output_type": "stream",
     "text": [
      "Description de l'entreprisePourquoi travailler chez Accor ?Nous sommes bien plus qu’un leader mondial. Nous vous accueillons comme vous êtes et vous pouvez trouver le métier et la marque qui correspond à votre personnalité.Nous vous accompagnons dans votre évolution et votre apprentissage au quotidien, nous nous assurons que votre travail apporte du sens à votre vie. Ainsi, durant votre expérience avec nous, vous pouvez explorer les possibilités illimitée du Groupe Accor.En rejoignant Accor, vous écrivez chaque chapitre de votre histoire et ensemble nous pouvons imaginer l’Hôtellerie de demain. Découvrez la vie qui vous attend chez Accor, https://careers.accor.com/.Faites ce que vous aimez, prenez soin du monde qui vous entoure, oser challenger le status quo ! #BELIMITLESS, Description du posteRéceptionniste (H/F)La première impression est toujours la bonne! En tant que Réceptionniste, vous prenez soin de nos clients depuis leur arrivée jusqu'à leur départ, en vous assurant qu'ils vivent une expérience mémorable.Ce que l'établissement vous offre :Carte collaborateurs offrant des taux réduits chez AccorPlan de formations délivrées dans nos AcadémiesL’opportunité de développer vos talents et de vous épanouir au sein de votre établissement et à travers le mondeLa capacité à faire la différence à travers nos activités Ethiques & Responsabilité Sociale des Entreprises, comme Planet 21Votre rôle :Accueillir les clients, assurer le check-in et check-out, établir la facturation et l'encaissement en garantissant un service exceptionnelProposer une expérience personnalisée pour le clientPromouvoir les équipements de l'établissement, améliorer le séjour des clients en proposant des services, QualificationsVotre expérience et vos compétences incluent :Qualité de service essentielle : une expérience similaire est un plusMaîtrise du logiciel Opera ou équivalentMaîtrise de l'AnglaisInformations supplémentairesla pratique d'autres langues est un plus.Votre équipe et votre environnement de travail :En quelques mots, présentez l’équipe, l’établissement ou l’environnement de travail qui reflète la culture de l'équipeNote : Vous pouvez inclure ici les spécificités locales ou les critères légaux, tels que le permis de travail.Notre Engagement Diversité & Inclusion :Nous sommes une entreprise inclusive et notre ambition est d’attirer, de recruter, et de promouvoir la diversité des talents.\n"
     ]
    },
    {
     "name": "stderr",
     "output_type": "stream",
     "text": [
      "c:\\Users\\nki\\Documents\\Steven Jobs\\venv\\Lib\\site-packages\\skillNer\\utils.py:99: UserWarning: [W008] Evaluating Token.similarity based on empty vectors.\n",
      "  vec_similarity = token1.similarity(token2)\n"
     ]
    },
    {
     "name": "stdout",
     "output_type": "stream",
     "text": [
      "Entreprise : AzurreoLieu : À Distance (télétravail)À propos d'Azurreo :Azurreo est une entreprise mondiale de premier plan spécialisée dans les solutions innovantes pour l'industrie des télécommunications. Nous nous engageons à fournir des services de premier ordre à nos clients, en veillant à ce que leurs besoins soient satisfaits avec le plus haut niveau d'expertise et de soin. Axée sur l'excellence et l'innovation, Azurreo s'est forgée une réputation de fiabilité et d'efficacité dans la fourniture de solutions à ses clients du monde entier.Description du Poste :Azurreo recherche un(e) Assistant(e) Financier(ère) dévoué(e) et minutieux(se) pour rejoindre notre équipe. Il s'agit d'un poste à temps plein, en télétravail, idéal pour un professionnel prêt à contribuer à notre département financier. Ce poste nécessite une disponibilité de 8 heures par jour, 5 jours par semaine, du lundi au vendredi.Vos missionsAssister dans les opérations financières quotidiennes et les tâches comptables.Préparer, examiner et traiter les transactions financières.Gérer et maintenir des dossiers financiers précis en utilisant divers systèmes ERP.Préparer des rapports, des budgets et des états financiers.Réaliser des analyses financières et fournir des informations pour soutenir la prise de décision.Gérer les communications par email de manière professionnelle et efficace.Assurer la conformité avec les politiques de l'entreprise et les réglementations financières pertinentes.Aider aux transferts internationaux et gérer les relations avec les banques françaises.Collaborer avec des membres de l'équipe situés dans différents fuseaux horaires.Vos compétencesQualifications :Éducation : Bac + 3 minimum en Gestion, Finance, Mathématiques ou dans un domaine connexe.Langues : Excellente maîtrise du français (oral et écrit), anglais intermédiaire (capable de maintenir une conversation fluide).Expérience : Minimum 1 an d'expérience dans un rôle similaire.Compétences :Maîtrise de la suite MS Office (notamment Excel).Expérience avec divers systèmes ERP.Compétences solides en communication par email.Minutieux avec de fortes compétences organisationnelles.Préféré :Expérience en comptabilité ou en finance.Connaissance des processus de transfert international.Compréhension du système bancaire français.Qualités Personnelles :Honnête, rigoureux et attentif aux détails.Désireux d'apprendre et à l'aise avec les chiffres.Pas peur de demander de l'aide si nécessaire.Prêt à travailler dans un environnement international à distance.AvantagesPourquoi Rejoindre Azurreo :Travailler dans une équipe internationale solidaire et dynamique.Opportunités de croissance professionnelle et de développement.Type de contrat CDI.Congés payés et Jours fériés.Poste à distance intégralement.Notez bien : ce ci n'est pas un poste en Freelance.Si vous êtes un professionnel de la finance motivé et prêt à relever de nouveaux défis dans une entreprise mondiale, nous serions ravis de vous entendre. Postulez dès maintenant pour rejoindre Azurreo et contribuer à notre mission d'excellence.\n",
      "Description de l'entreprisePourquoi travailler chez Accor ?Nous sommes bien plus qu’un leader mondial. Nous vous accueillons comme vous êtes et vous pouvez trouver le métier et la marque qui correspond à votre personnalité.Nous vous accompagnons dans votre évolution et votre apprentissage au quotidien, nous nous assurons que votre travail apporte du sens à votre vie. Ainsi, durant votre expérience avec nous, vous pouvez explorer les possibilités illimitée du Groupe Accor.En rejoignant Accor, vous écrivez chaque chapitre de votre histoire et ensemble nous pouvons imaginer l’Hôtellerie de demain. Découvrez la vie qui vous attend chez Accor, https://careers.accor.com/.Faites ce que vous aimez, prenez soin du monde qui vous entoure, oser challenger le status quo ! #BELIMITLESS, Description du posteSuperviser et diriger tous les aspects des relations avec les clients pour atteindre la meilleure satisfaction possible. Faire preuve d'esprit d'entreprise et penser au-delà des limites est attendu et non demandé. Anticiper les demandes implicites des clients, au-delà de leurs besoins exprimés. Fournir un service sincère, chaleureux et enthousiaste, en veillant à la satisfaction des clients. Prendre le temps de connaître les clients et s'engager pour l'excellence du service. S’assure de la réalisation des objectifs au niveau de son processus. , Informations supplémentairesWe are Heartists®décrit à la fois notre culture et qui nous sommes. Tout ce que nous faisons vient du cœur, et nous sommes des experts dans ce que nous faisons. Généreux, attentifs et libres, nous veillons à ce que chacun puisse venir tel qu’il est et se sentir à sa place. En tant que grande équipe, nous savons que ce n’est qu’ensemble que nous pouvons faire des choses incroyables !\n",
      "Description de l'entrepriseStartup Tunisia est une initiative nationale qui ambitionne de faire de la Tunisie un pays de Startups à la croisée de la méditerranée, de la région MENA et de l’Afrique.L’initiative a été confiée à Smart Capital, une société de gestion, agréée par le Conseil du Marché financier en 2019 pour gérer le projet structuré autour des trois piliers suivants :Startup Act : un cadre juridique unique et un ensemble d’incitations offert aux Startups innovantes et scalablesStartup Invest : Un nouveau cadre d’investissement dédié aux Startups bâties autour d’un fonds de fonds d’une taille cible de 100 Million d’Euros financé par la Banque Mondiale et la KfW œuvrant à booster l’écosystème des VC en Tunisie,Startup Ecosystem : Un cadre d’appui pour un écosystème de Startups performant et inclusif axé sur les thématiques de financement, d’animation et de connexions, sponsorisés par plusieurs bailleurs dont la Banque Mondiale, La GIZ, et l’Union Européenne. Smart Capital gère aussi un Fonds d’investissement direct dans les PME innovantes d’une taille cible de 125 Millions de Dinars.Cette initiative ambitieuse est le fruit d’une dynamique collaborative et participative impliquant toutes les parties prenantes de l’écosystème des Startups. Pour réaliser sa mission, Smart Capital mobilise une équipe talentueuse et engagée et s’aligne sur les meilleurs standards internationaux de fonctionnement. Smart Capital voudrait renforcer la composition de son conseil par des administrateurs indépendants venant du secteur privé et plus particulièrement du monde de l’investissement (Venture Capital et Private Equity) et des Startups., Description du posteLa mission des administrateurs indépendants est comme celle du reste des administrateurs dans le conseil d'administration. Conformément à l’article 23 des statuts de Smart Capital le conseil est investi des pouvoirs les plus étendus, dans le cadre de l'objet social de la Société, (sous réserve des seuls actes ou opérations qui sont, du fait de la loi, de la compétence exclusive de l'assemblée générale), pour représenter, gérer, administrer, engager et développer les activités de la Société.L’apport de l’administrateur indépendant est axé particulièrement surce qui suit :Sa compréhension approfondie de l’écosystème des Startups et du VC en Tunisie et ailleurs pour aider le conseil à mieux atteindre ses objectifs et ses priorités à court et moyen terme et à mettre en place les programmes appropriés pour y parvenirSa contribution et celle de son réseau national et international à aider Smart Capital à lever les capitaux nécessaires pour son fonds de fonds ANAVA et son fonds direct, INNOVATECH et les fonds/subventions nécessaires pour alimenter ses programmes d’appui à l’écosystème type Flywheel, HALO, Invest’i et autres. Son appui aux missions de soutien, de connexion et de sensibilisation nationale et auprés de la diaspora de la nouvelle économie basée sur l’innovation et la technologie. Ses efforts pour assurer la connexion et la collaboration avec les acteurs locaux et internationaux du monde del’investissement. Tout appui à la promotion de l’écosystème local des Startups, des VCs et de la PME innovante en mettant en avant ses acteurs clés, ses startups et le cadre Startup Tunisia ou à travers l’appui à l’organisation d’événements au rayonnement régional ou international, QualificationsDe nationalité tunisienne. Expérience dans le secteur du VC ou capital risque, des investissements, du droit des entreprises ou de la comptabilité. Acteur de l’écosystème des startups ou entrepreneurial en Tunisie ou à l’international (en tant qu'investisseur ou en tant qu’entrepreneur). Expérience dans la structuration de projets/programmes pour l’innovation serait un atoutPassionné(e) par le monde des startups et de l’innovationRigoureux, ayant le sens du détail. Sens éthique élevéAbsence de conflit d’intérêt avec l’activité de Smart CapitalÊtre issu du secteur privéÊtre résidant en TunisieInformations supplémentairesun mandat de 3 année renouvelable.Périodicité des conseils: minimum 4 par an.La date limite de candidature: 11 Juillet 2024.\n",
      "Anúncio de emprego: Copeiro (M/F) - Beja:SERLIMADescrição Do Emprego:Copeiro (M/F) - Beja»Serlima»24-12-2024»Ref: 7364963»Beja»Hotelaria / TurismoReferência:Detalhe da Oferta:0000000891Referência Da Oferta:A Serlima Integrated Services é uma empresa especializada na prestação de serviços a todas as áreas de negócio do Grupo Serlima, enquadrada no conceito de serviços partilhados.Descrição:O/a colaborador/a ficará responsável pela limpeza de utensílios, equipamentos e instalações de acordo com os standards de exigência e condições definidas pelo cliente.Referência Da Oferta: Experiência anterior comprovada na função (fator eliminatório); Gosto pelo trabalho em equipa; Dinamismo e proatividade; Sentido de responsabilidade; Disponibilidade imediata e total.Oferta: Bom ambiente de trabalho; Remuneração compatível com a função;Responda a Esta Oferta Em:Mais Ofertas de Emprego Semelhantes:\n"
     ]
    }
   ],
   "source": [
    "import nltk\n",
    "from nltk.tokenize import word_tokenize\n",
    "from langdetect import detect\n",
    "\n",
    "skil = []\n",
    "\n",
    "\n",
    "for index , row in jobs.iterrows():\n",
    "    \n",
    "    en = str(row.iloc[2])\n",
    "    print(en)\n",
    "    \n",
    "    if detect(en) != 'en':\n",
    "        \n",
    "        splited = split_text(en)\n",
    "        en = ' '.join([Translator(x)[0]['translation_text'] for x in splited] )\n",
    "    \n",
    "    \n",
    "    \n",
    "    annotations = skill_extractor.annotate(en)\n",
    "    \n",
    "    jobskill = []\n",
    "    \n",
    "    for i in range(len(annotations['results']['ngram_scored'])):\n",
    "\n",
    "\n",
    "        s = annotations['results']['ngram_scored'][i]['doc_node_value']\n",
    "        \n",
    "        jobskill.append(s)\n",
    "    \n",
    "    skil.append(list(set(jobskill)))\n",
    "\n",
    "   "
   ]
  },
  {
   "cell_type": "code",
   "execution_count": 127,
   "metadata": {},
   "outputs": [],
   "source": [
    "sk = []\n",
    "for i in skil:\n",
    "    for j in i:\n",
    "        sk.append(j)"
   ]
  },
  {
   "cell_type": "code",
   "execution_count": 129,
   "metadata": {},
   "outputs": [
    {
     "data": {
      "text/html": [
       "<div>\n",
       "<style scoped>\n",
       "    .dataframe tbody tr th:only-of-type {\n",
       "        vertical-align: middle;\n",
       "    }\n",
       "\n",
       "    .dataframe tbody tr th {\n",
       "        vertical-align: top;\n",
       "    }\n",
       "\n",
       "    .dataframe thead th {\n",
       "        text-align: right;\n",
       "    }\n",
       "</style>\n",
       "<table border=\"1\" class=\"dataframe\">\n",
       "  <thead>\n",
       "    <tr style=\"text-align: right;\">\n",
       "      <th></th>\n",
       "      <th>0</th>\n",
       "    </tr>\n",
       "  </thead>\n",
       "  <tbody>\n",
       "    <tr>\n",
       "      <th>0</th>\n",
       "      <td>personality</td>\n",
       "    </tr>\n",
       "    <tr>\n",
       "      <th>1</th>\n",
       "      <td>imagine</td>\n",
       "    </tr>\n",
       "    <tr>\n",
       "      <th>2</th>\n",
       "      <td>collaborators</td>\n",
       "    </tr>\n",
       "    <tr>\n",
       "      <th>3</th>\n",
       "      <td>reflects</td>\n",
       "    </tr>\n",
       "    <tr>\n",
       "      <th>4</th>\n",
       "      <td>present</td>\n",
       "    </tr>\n",
       "    <tr>\n",
       "      <th>...</th>\n",
       "      <td>...</td>\n",
       "    </tr>\n",
       "    <tr>\n",
       "      <th>82</th>\n",
       "      <td>tools</td>\n",
       "    </tr>\n",
       "    <tr>\n",
       "      <th>83</th>\n",
       "      <td>integrated services</td>\n",
       "    </tr>\n",
       "    <tr>\n",
       "      <th>84</th>\n",
       "      <td>m</td>\n",
       "    </tr>\n",
       "    <tr>\n",
       "      <th>85</th>\n",
       "      <td>compatible</td>\n",
       "    </tr>\n",
       "    <tr>\n",
       "      <th>86</th>\n",
       "      <td>remuneration</td>\n",
       "    </tr>\n",
       "  </tbody>\n",
       "</table>\n",
       "<p>87 rows × 1 columns</p>\n",
       "</div>"
      ],
      "text/plain": [
       "                      0\n",
       "0           personality\n",
       "1               imagine\n",
       "2         collaborators\n",
       "3              reflects\n",
       "4               present\n",
       "..                  ...\n",
       "82                tools\n",
       "83  integrated services\n",
       "84                    m\n",
       "85           compatible\n",
       "86         remuneration\n",
       "\n",
       "[87 rows x 1 columns]"
      ]
     },
     "execution_count": 129,
     "metadata": {},
     "output_type": "execute_result"
    }
   ],
   "source": [
    "pd.DataFrame(sk)"
   ]
  },
  {
   "cell_type": "code",
   "execution_count": 118,
   "metadata": {},
   "outputs": [],
   "source": [
    "jobs_desc = \"Our client is a leading marketing agency specializing in serving tech-ed businesses. With a focus on delivering innovative and results-driven marketing solutions, they help clients enhance their online presence, drive traffic, and generate leads.We are seeking a talented and creative Creative Assistant who specializes in creating and editing videos and image posts for organic social media. The ideal candidate will have experience using Canva to produce engaging and visually appealing content. Our client is a marketing agency serving tech-ed businesses, and this role will play a crucial role in enhancing their online presence and driving engagement.Responsibilities:Video and Image Creation:Create captivating video and image content tailored for various social media platforms, including but not limited to Instagram, Facebook, Twitter, and LinkedIn. Develop visually stunning graphics, animations, and videos that align with client branding and messaging. Canva Expertise:Utilize proficiency in Canva to edit and enhance video and image content, incorporating effects, filters, and text overlays to optimize engagement. Stay updated on new features and functionalities of Canva to leverage their full potential in content creation. Content Strategy Alignment:Collaborate with the marketing team to align content creation with overall social media and marketing strategies. Ensure that all content meets brand guidelines and resonates with the target audience of tech-ed businesses. Engagement Optimization:Monitor social media performance metrics and analyze audience engagement to optimize content strategy and maximize reach and interaction. Experiment with different formats, styles, and content types to identify trends and opportunities for increased engagement. Client Collaboration:Work closely with clients to understand their objectives, preferences, and feedback, ensuring that content meets their expectations and drives desired outcomes. Provide regular updates and reports on content performance and recommendations for improvement. Qualifications:Proven experience in creating and editing videos and images for organic social media, with a strong portfolio showcasing previous work. Proficiency in Canva with the ability to produce high-quality content efficiently. Knowledge of social media platforms and trends, with a keen understanding of what drives engagement and interaction. Excellent creative skills with a strong eye for design and aesthetics. Strong communication and collaboration skills, with the ability to work effectively in a team environment and with clients. Experience working with tech-ed businesses or within a marketing agency environment is a plus. If you are passionate about creating compelling social media content and thrive in a fast-paced, dynamic environment, we invite you to join our client's team and contribute to their success.Application Process:To be considered for this role these steps need to be followed:Fill in the application formRecord a video showcasing your skill sets\""
   ]
  },
  {
   "cell_type": "code",
   "execution_count": 119,
   "metadata": {},
   "outputs": [
    {
     "data": {
      "text/plain": [
       "'en'"
      ]
     },
     "execution_count": 119,
     "metadata": {},
     "output_type": "execute_result"
    }
   ],
   "source": [
    "detect(jobs_desc)"
   ]
  },
  {
   "cell_type": "code",
   "execution_count": 107,
   "metadata": {},
   "outputs": [
    {
     "name": "stdout",
     "output_type": "stream",
     "text": [
      "['Anúncio', 'de', 'emprego', ':', 'Copeiro', '(', 'M/F', ')', '-', 'Beja', ':', 'SERLIMADescrição', 'Do', 'Emprego', ':', 'Copeiro', '(', 'M/F', ')', '-', 'Beja', '»', 'Serlima', '»', '24-12-2024', '»', 'Ref', ':', '7364963', '»', 'Beja', '»', 'Hotelaria', '/', 'TurismoReferência', ':', 'Detalhe', 'da', 'Oferta:0000000891Referência', 'Da', 'Oferta', ':', 'A', 'Serlima', 'Integrated', 'Services', 'é', 'uma', 'empresa', 'especializada', 'na', 'prestação', 'de', 'serviços', 'a', 'todas', 'as', 'áreas', 'de', 'negócio', 'do', 'Grupo', 'Serlima', ',', 'enquadrada', 'no', 'conceito', 'de', 'serviços', 'partilhados.Descrição', ':', 'O/a', 'colaborador/a', 'ficará', 'responsável', 'pela', 'limpeza', 'de', 'utensílios', ',', 'equipamentos', 'e', 'instalações', 'de', 'acordo', 'com', 'os', 'standards', 'de', 'exigência', 'e', 'condições', 'definidas', 'pelo', 'cliente.Referência', 'Da', 'Oferta', ':', 'Experiência', 'anterior', 'comprovada', 'na', 'função', '(', 'fator', 'eliminatório', ')', ';', 'Gosto', 'pelo', 'trabalho', 'em', 'equipa', ';', 'Dinamismo', 'e', 'proatividade', ';', 'Sentido', 'de', 'responsabilidade', ';', 'Disponibilidade', 'imediata', 'e', 'total.Oferta', ':', 'Bom', 'ambiente', 'de', 'trabalho', ';', 'Remuneração', 'compatível', 'com', 'a', 'função', ';', 'Responda', 'a', 'Esta', 'Oferta', 'Em', ':', 'Mais', 'Ofertas', 'de', 'Emprego', 'Semelhantes', ':']\n"
     ]
    },
    {
     "data": {
      "text/plain": [
       "'Announce of PaoneCoptic month 4 - LongNamePossessive employment Unable to connect to POP server %s. Error sending password: Copy (Laughter) M/F This post is part of our special coverage \"Secretariat\" series. - I don\\'t know. Beja Unable to connect to POP server %s. Error sending password: SERLIMADescription I\\'m sorry. Usage Unable to connect to POP server %s. Error sending password: Copy (Laughter) M/F This post is part of our special coverage \"Secretariat\" series. - I don\\'t know. Beja What is it? ” Serlima What is it? ” 24-12-2024 What is it? ” Ref Unable to connect to POP server %s. Error sending password: 7364963 What is it? ” Beja What is it? ” Hotels I/O error TourismReference Unable to connect to POP server %s. Error sending password: Details yes Offer:0000000891Reference Yes Offer Unable to connect to POP server %s. Error sending password: A Serlima Integrated Services is one company special Add a bookmark for the current location to this menu performance of PaoneCoptic month 4 - LongNamePossessive services Guide a worm around a maze all ace areas of PaoneCoptic month 4 - LongNamePossessive . . . . . . . . . . . . . . . . . . . . . . . . . . . . . . . . . . . . . . . . . . . . . . . . . . . . . . . . . . . . . . . . . . . . . . . . . . . . . . . . . . . . . . . . . . . . . . . . . . . . . . . . . . . . . . . . . . . . do Group Serlima %s, Free space: %s, frame name concept of PaoneCoptic month 4 - LongNamePossessive services shared.Description Unable to connect to POP server %s. Error sending password: O/A contributor/a will be responsible Role clean of PaoneCoptic month 4 - LongNamePossessive Tools %s, Free space: %s, equipment e installations of PaoneCoptic month 4 - LongNamePossessive agreement com os defaults of PaoneCoptic month 4 - LongNamePossessive requirement e conditions defined by customer.Reference Yes Offer Unable to connect to POP server %s. Error sending password: Experience previous checked Add a bookmark for the current location to this menu function (Laughter) factor remover This post is part of our special coverage \"Secretariat\" series. Scale: %0.2f%% x %0.2f%%; with Ctrl to lock ratio Favorite by work em team Scale: %0.2f%% x %0.2f%%; with Ctrl to lock ratio Dynamic e Proactivity Scale: %0.2f%% x %0.2f%%; with Ctrl to lock ratio Sentence of PaoneCoptic month 4 - LongNamePossessive responsibility Scale: %0.2f%% x %0.2f%%; with Ctrl to lock ratio Availability immediately e total.offer Unable to connect to POP server %s. Error sending password: Good environment of PaoneCoptic month 4 - LongNamePossessive work Scale: %0.2f%% x %0.2f%%; with Ctrl to lock ratio Remuneration compatible com Guide a worm around a maze function Scale: %0.2f%% x %0.2f%%; with Ctrl to lock ratio Reply Guide a worm around a maze Is Offer Em Unable to connect to POP server %s. Error sending password: More Offers of PaoneCoptic month 4 - LongNamePossessive Usage Similar Unable to connect to POP server %s. Error sending password:'"
      ]
     },
     "execution_count": 107,
     "metadata": {},
     "output_type": "execute_result"
    }
   ],
   "source": [
    "import nltk\n",
    "from nltk.tokenize import word_tokenize\n",
    "from langdetect import detect\n",
    "\n",
    "tokens = word_tokenize(jobs_desc)\n",
    "print(tokens)\n",
    "\n",
    "en = ' '.join([Translator(x)[0]['translation_text'] for x in tokens])\n",
    "\n",
    "en"
   ]
  },
  {
   "cell_type": "code",
   "execution_count": 109,
   "metadata": {},
   "outputs": [
    {
     "name": "stdout",
     "output_type": "stream",
     "text": [
      "['Anúncio de emprego: Copeiro (M/F) - Beja:SERLIMADescrição Do Emprego:Copeiro (M/F) - Beja»Serlima»24-12-2024»Ref: 7364963»Beja»Hotelaria / TurismoReferência:Detalhe da Oferta:0000000891Referência Da Oferta:A Serlima Integrated Services é uma empresa especializada na prestação de serviços a todas as áreas de negócio do Grupo Serlima, enquadrada no conceito de serviços partilhados.Descrição:O/a colaborador/a ficará responsável pela limpeza de utensílios, equipamentos e instalações de acordo com os', ' standards de exigência e condições definidas pelo cliente.Referência Da Oferta: Experiência anterior comprovada na função (fator eliminatório); Gosto pelo trabalho em equipa; Dinamismo e proatividade; Sentido de responsabilidade; Disponibilidade imediata e total.Oferta: Bom ambiente de trabalho; Remuneração compatível com a função;Responda a Esta Oferta Em:Mais Ofertas de Emprego Semelhantes:']\n"
     ]
    }
   ],
   "source": [
    "def split_text(text, max_len=500):\n",
    "\n",
    "\n",
    "  chunks = []\n",
    "  start = 0\n",
    "  end = max_len\n",
    "\n",
    "  while start < len(text):\n",
    "    chunk = text[start:end]\n",
    "    chunks.append(chunk)\n",
    "    start = end\n",
    "    end += max_len\n",
    "\n",
    "  return chunks\n",
    "\n",
    "# Example usage:\n",
    "long_text = \"This is a very long text that needs to be split into smaller chunks. Each chunk should have a maximum of 500 characters.\"\n",
    "text_chunks = split_text(jobs_desc, max_len=500)\n",
    "print(text_chunks)"
   ]
  },
  {
   "cell_type": "code",
   "execution_count": 113,
   "metadata": {},
   "outputs": [
    {
     "ename": "IndexError",
     "evalue": "list index out of range",
     "output_type": "error",
     "traceback": [
      "\u001b[1;31m---------------------------------------------------------------------------\u001b[0m",
      "\u001b[1;31mIndexError\u001b[0m                                Traceback (most recent call last)",
      "Cell \u001b[1;32mIn[113], line 1\u001b[0m\n\u001b[1;32m----> 1\u001b[0m \u001b[38;5;28mlen\u001b[39m(\u001b[43mtext_chunks\u001b[49m\u001b[43m[\u001b[49m\u001b[38;5;241;43m2\u001b[39;49m\u001b[43m]\u001b[49m)\n",
      "\u001b[1;31mIndexError\u001b[0m: list index out of range"
     ]
    }
   ],
   "source": [
    "len(text_chunks[2])"
   ]
  },
  {
   "cell_type": "code",
   "execution_count": null,
   "metadata": {},
   "outputs": [],
   "source": []
  },
  {
   "cell_type": "code",
   "execution_count": null,
   "metadata": {},
   "outputs": [],
   "source": []
  },
  {
   "cell_type": "code",
   "execution_count": null,
   "metadata": {},
   "outputs": [],
   "source": []
  },
  {
   "cell_type": "code",
   "execution_count": 96,
   "metadata": {},
   "outputs": [
    {
     "data": {
      "text/plain": [
       "'Our client is a leading marketing agency specializing in serving tech-ed businesses. With a focus on delivering innovative and results-driven marketing solutions, they help clients enhance their online presence, drive traffic, and generate leads.We are seeking a talented and creative Creative Assistant who specializes in creating and editing videos and image posts for organic social media. The ideal candidate will have experience using Canva to produce engaging and visually appealing content. Ou'"
      ]
     },
     "execution_count": 96,
     "metadata": {},
     "output_type": "execute_result"
    }
   ],
   "source": [
    "jobs_desc[:500]"
   ]
  },
  {
   "cell_type": "code",
   "execution_count": 95,
   "metadata": {},
   "outputs": [
    {
     "data": {
      "text/plain": [
       "[{'translation_text': 'With a focus on delivering innovative and results-driven marketing solutions, they help customers increase their online presence, drive traffic, and generated leads.We are looking for a talented and creative Creative Assistant who specializes in creating and editing videos and image posts for organic social media. The ideal candidate will have experience using Canva to produce engagement and visually appearing content.'}]"
      ]
     },
     "execution_count": 95,
     "metadata": {},
     "output_type": "execute_result"
    }
   ],
   "source": [
    "Translator(jobs_desc[:500])"
   ]
  },
  {
   "cell_type": "code",
   "execution_count": null,
   "metadata": {},
   "outputs": [],
   "source": []
  }
 ],
 "metadata": {
  "kernelspec": {
   "display_name": "venv",
   "language": "python",
   "name": "python3"
  },
  "language_info": {
   "codemirror_mode": {
    "name": "ipython",
    "version": 3
   },
   "file_extension": ".py",
   "mimetype": "text/x-python",
   "name": "python",
   "nbconvert_exporter": "python",
   "pygments_lexer": "ipython3",
   "version": "3.12.4"
  }
 },
 "nbformat": 4,
 "nbformat_minor": 2
}
