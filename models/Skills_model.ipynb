{
 "cells": [
  {
   "cell_type": "code",
   "execution_count": 2,
   "metadata": {},
   "outputs": [
    {
     "name": "stdout",
     "output_type": "stream",
     "text": [
      "loading full_matcher ...\n",
      "loading abv_matcher ...\n",
      "loading full_uni_matcher ...\n",
      "loading low_form_matcher ...\n",
      "loading token_matcher ...\n"
     ]
    }
   ],
   "source": [
    "# imports\n",
    "import spacy\n",
    "from spacy.matcher import PhraseMatcher\n",
    "\n",
    "# load default skills data base\n",
    "from skillNer.general_params import SKILL_DB\n",
    "# import skill extractor\n",
    "from skillNer.skill_extractor_class import SkillExtractor\n",
    "\n",
    "# init params of skill extractor\n",
    "nlp = spacy.load(\"en_core_web_lg\")\n",
    "# init skill extractor\n",
    "skill_extractor = SkillExtractor(nlp, SKILL_DB, PhraseMatcher)\n",
    "\n"
   ]
  },
  {
   "cell_type": "code",
   "execution_count": 3,
   "metadata": {},
   "outputs": [],
   "source": [
    "import pandas as pd"
   ]
  },
  {
   "cell_type": "code",
   "execution_count": 4,
   "metadata": {},
   "outputs": [],
   "source": [
    "jobs = pd.read_csv(r'C:\\Users\\nki\\Documents\\Steven Jobs\\total_jobs.csv')"
   ]
  },
  {
   "cell_type": "code",
   "execution_count": 10,
   "metadata": {},
   "outputs": [
    {
     "data": {
      "text/plain": [
       "0      Na Sport Zone estamos empenhados em criar e ma...\n",
       "1      Description de l'entreprisePourquoi travailler...\n",
       "2      Oferta: ADMINISTRATIVO(A) - Beja:rhDescrição D...\n",
       "3      Descrição da FunçãoM/F Tecnovia - Sociedade de...\n",
       "4      Description de l'entrepriseStartup Tunisia est...\n",
       "                             ...                        \n",
       "624    Regular - Ingénieur QA Ingénieur QAref :ESOF13...\n",
       "625    Regular - Chef de Projet\\_MOE Chef de Projet\\_...\n",
       "626    Job Number 24042403 Job Category Rooms & Guest...\n",
       "627    Job DescriptionRéaliser des 3D de pièces et de...\n",
       "628    Job DescriptionRéaliser des 3D de pièces et de...\n",
       "Name: job_description, Length: 629, dtype: object"
      ]
     },
     "execution_count": 10,
     "metadata": {},
     "output_type": "execute_result"
    }
   ],
   "source": [
    "jobs.job_description"
   ]
  },
  {
   "cell_type": "code",
   "execution_count": 7,
   "metadata": {},
   "outputs": [
    {
     "name": "stdout",
     "output_type": "stream",
     "text": [
      "WARNING:tensorflow:From c:\\Users\\nki\\Documents\\Steven Jobs\\venv\\Lib\\site-packages\\tf_keras\\src\\losses.py:2976: The name tf.losses.sparse_softmax_cross_entropy is deprecated. Please use tf.compat.v1.losses.sparse_softmax_cross_entropy instead.\n",
      "\n"
     ]
    }
   ],
   "source": [
    "from transformers import pipeline\n",
    "\n",
    "Translator = pipeline(\"translation\", model=\"Helsinki-NLP/opus-mt-mul-en\")"
   ]
  },
  {
   "cell_type": "code",
   "execution_count": 9,
   "metadata": {},
   "outputs": [],
   "source": [
    "def split_text(text, max_len=500):\n",
    "\n",
    "\n",
    "  chunks = []\n",
    "  start = 0\n",
    "  end = max_len\n",
    "\n",
    "  while start < len(text):\n",
    "    chunk = text[start:end]\n",
    "    chunks.append(chunk)\n",
    "    start = end\n",
    "    end += max_len\n",
    "\n",
    "  return chunks"
   ]
  },
  {
   "cell_type": "code",
   "execution_count": 13,
   "metadata": {},
   "outputs": [],
   "source": [
    "from tqdm import tqdm"
   ]
  },
  {
   "cell_type": "code",
   "execution_count": null,
   "metadata": {},
   "outputs": [],
   "source": [
    "import nltk\n",
    "from nltk.tokenize import word_tokenize\n",
    "from langdetect import detect\n",
    "\n",
    "skil = []\n",
    "\n",
    "\n",
    "for index , row in  tqdm(jobs.iterrows(), desc='Extracting skills'):\n",
    "    \n",
    "    en = str(row.iloc[2])\n",
    "   \n",
    "    \n",
    "    if detect(en) != 'en':\n",
    "        \n",
    "        splited = split_text(en)\n",
    "        en = ' '.join([Translator(x)[0]['translation_text'] for x in splited] )\n",
    "        print(en)\n",
    "    \n",
    "    try:\n",
    "        annotations = skill_extractor.annotate(en)\n",
    "    except Exception as e:\n",
    "        print(e)\n",
    "        continue\n",
    "    \n",
    "    jobskill = []\n",
    "    \n",
    "    for i in range(len(annotations['results']['ngram_scored'])):\n",
    "\n",
    "\n",
    "        s = annotations['results']['ngram_scored'][i]['doc_node_value']\n",
    "        \n",
    "        jobskill.append(s)\n",
    "    \n",
    "    skil.append(list(set(jobskill)))\n",
    "\n",
    "   "
   ]
  },
  {
   "cell_type": "code",
   "execution_count": 18,
   "metadata": {},
   "outputs": [],
   "source": [
    "sk = []\n",
    "for i in skil:\n",
    "    for j in i:\n",
    "        sk.append(j)"
   ]
  },
  {
   "cell_type": "code",
   "execution_count": 19,
   "metadata": {},
   "outputs": [
    {
     "data": {
      "text/plain": [
       "'analytical'"
      ]
     },
     "execution_count": 19,
     "metadata": {},
     "output_type": "execute_result"
    }
   ],
   "source": [
    "j"
   ]
  },
  {
   "cell_type": "code",
   "execution_count": 20,
   "metadata": {},
   "outputs": [
    {
     "data": {
      "text/html": [
       "<div>\n",
       "<style scoped>\n",
       "    .dataframe tbody tr th:only-of-type {\n",
       "        vertical-align: middle;\n",
       "    }\n",
       "\n",
       "    .dataframe tbody tr th {\n",
       "        vertical-align: top;\n",
       "    }\n",
       "\n",
       "    .dataframe thead th {\n",
       "        text-align: right;\n",
       "    }\n",
       "</style>\n",
       "<table border=\"1\" class=\"dataframe\">\n",
       "  <thead>\n",
       "    <tr style=\"text-align: right;\">\n",
       "      <th></th>\n",
       "      <th>0</th>\n",
       "    </tr>\n",
       "  </thead>\n",
       "  <tbody>\n",
       "    <tr>\n",
       "      <th>0</th>\n",
       "      <td>read</td>\n",
       "    </tr>\n",
       "    <tr>\n",
       "      <th>1</th>\n",
       "      <td>c</td>\n",
       "    </tr>\n",
       "    <tr>\n",
       "      <th>2</th>\n",
       "      <td>schedule</td>\n",
       "    </tr>\n",
       "    <tr>\n",
       "      <th>3</th>\n",
       "      <td>receive</td>\n",
       "    </tr>\n",
       "    <tr>\n",
       "      <th>4</th>\n",
       "      <td>key indicators</td>\n",
       "    </tr>\n",
       "    <tr>\n",
       "      <th>...</th>\n",
       "      <td>...</td>\n",
       "    </tr>\n",
       "    <tr>\n",
       "      <th>15395</th>\n",
       "      <td>tool</td>\n",
       "    </tr>\n",
       "    <tr>\n",
       "      <th>15396</th>\n",
       "      <td>tunis</td>\n",
       "    </tr>\n",
       "    <tr>\n",
       "      <th>15397</th>\n",
       "      <td>control</td>\n",
       "    </tr>\n",
       "    <tr>\n",
       "      <th>15398</th>\n",
       "      <td>internal standards</td>\n",
       "    </tr>\n",
       "    <tr>\n",
       "      <th>15399</th>\n",
       "      <td>analytical</td>\n",
       "    </tr>\n",
       "  </tbody>\n",
       "</table>\n",
       "<p>15400 rows × 1 columns</p>\n",
       "</div>"
      ],
      "text/plain": [
       "                        0\n",
       "0                    read\n",
       "1                       c\n",
       "2                schedule\n",
       "3                 receive\n",
       "4          key indicators\n",
       "...                   ...\n",
       "15395                tool\n",
       "15396               tunis\n",
       "15397             control\n",
       "15398  internal standards\n",
       "15399          analytical\n",
       "\n",
       "[15400 rows x 1 columns]"
      ]
     },
     "execution_count": 20,
     "metadata": {},
     "output_type": "execute_result"
    }
   ],
   "source": [
    "pd.DataFrame(sk)"
   ]
  },
  {
   "cell_type": "code",
   "execution_count": 21,
   "metadata": {},
   "outputs": [],
   "source": [
    "l = pd.DataFrame(sk)\n",
    "\n",
    "l.to_csv('skills.csv', index=False)"
   ]
  },
  {
   "cell_type": "code",
   "execution_count": 118,
   "metadata": {},
   "outputs": [],
   "source": [
    "jobs_desc = \"Our client is a leading marketing agency specializing in serving tech-ed businesses. With a focus on delivering innovative and results-driven marketing solutions, they help clients enhance their online presence, drive traffic, and generate leads.We are seeking a talented and creative Creative Assistant who specializes in creating and editing videos and image posts for organic social media. The ideal candidate will have experience using Canva to produce engaging and visually appealing content. Our client is a marketing agency serving tech-ed businesses, and this role will play a crucial role in enhancing their online presence and driving engagement.Responsibilities:Video and Image Creation:Create captivating video and image content tailored for various social media platforms, including but not limited to Instagram, Facebook, Twitter, and LinkedIn. Develop visually stunning graphics, animations, and videos that align with client branding and messaging. Canva Expertise:Utilize proficiency in Canva to edit and enhance video and image content, incorporating effects, filters, and text overlays to optimize engagement. Stay updated on new features and functionalities of Canva to leverage their full potential in content creation. Content Strategy Alignment:Collaborate with the marketing team to align content creation with overall social media and marketing strategies. Ensure that all content meets brand guidelines and resonates with the target audience of tech-ed businesses. Engagement Optimization:Monitor social media performance metrics and analyze audience engagement to optimize content strategy and maximize reach and interaction. Experiment with different formats, styles, and content types to identify trends and opportunities for increased engagement. Client Collaboration:Work closely with clients to understand their objectives, preferences, and feedback, ensuring that content meets their expectations and drives desired outcomes. Provide regular updates and reports on content performance and recommendations for improvement. Qualifications:Proven experience in creating and editing videos and images for organic social media, with a strong portfolio showcasing previous work. Proficiency in Canva with the ability to produce high-quality content efficiently. Knowledge of social media platforms and trends, with a keen understanding of what drives engagement and interaction. Excellent creative skills with a strong eye for design and aesthetics. Strong communication and collaboration skills, with the ability to work effectively in a team environment and with clients. Experience working with tech-ed businesses or within a marketing agency environment is a plus. If you are passionate about creating compelling social media content and thrive in a fast-paced, dynamic environment, we invite you to join our client's team and contribute to their success.Application Process:To be considered for this role these steps need to be followed:Fill in the application formRecord a video showcasing your skill sets\""
   ]
  },
  {
   "cell_type": "code",
   "execution_count": 119,
   "metadata": {},
   "outputs": [
    {
     "data": {
      "text/plain": [
       "'en'"
      ]
     },
     "execution_count": 119,
     "metadata": {},
     "output_type": "execute_result"
    }
   ],
   "source": [
    "detect(jobs_desc)"
   ]
  },
  {
   "cell_type": "code",
   "execution_count": 107,
   "metadata": {},
   "outputs": [
    {
     "name": "stdout",
     "output_type": "stream",
     "text": [
      "['Anúncio', 'de', 'emprego', ':', 'Copeiro', '(', 'M/F', ')', '-', 'Beja', ':', 'SERLIMADescrição', 'Do', 'Emprego', ':', 'Copeiro', '(', 'M/F', ')', '-', 'Beja', '»', 'Serlima', '»', '24-12-2024', '»', 'Ref', ':', '7364963', '»', 'Beja', '»', 'Hotelaria', '/', 'TurismoReferência', ':', 'Detalhe', 'da', 'Oferta:0000000891Referência', 'Da', 'Oferta', ':', 'A', 'Serlima', 'Integrated', 'Services', 'é', 'uma', 'empresa', 'especializada', 'na', 'prestação', 'de', 'serviços', 'a', 'todas', 'as', 'áreas', 'de', 'negócio', 'do', 'Grupo', 'Serlima', ',', 'enquadrada', 'no', 'conceito', 'de', 'serviços', 'partilhados.Descrição', ':', 'O/a', 'colaborador/a', 'ficará', 'responsável', 'pela', 'limpeza', 'de', 'utensílios', ',', 'equipamentos', 'e', 'instalações', 'de', 'acordo', 'com', 'os', 'standards', 'de', 'exigência', 'e', 'condições', 'definidas', 'pelo', 'cliente.Referência', 'Da', 'Oferta', ':', 'Experiência', 'anterior', 'comprovada', 'na', 'função', '(', 'fator', 'eliminatório', ')', ';', 'Gosto', 'pelo', 'trabalho', 'em', 'equipa', ';', 'Dinamismo', 'e', 'proatividade', ';', 'Sentido', 'de', 'responsabilidade', ';', 'Disponibilidade', 'imediata', 'e', 'total.Oferta', ':', 'Bom', 'ambiente', 'de', 'trabalho', ';', 'Remuneração', 'compatível', 'com', 'a', 'função', ';', 'Responda', 'a', 'Esta', 'Oferta', 'Em', ':', 'Mais', 'Ofertas', 'de', 'Emprego', 'Semelhantes', ':']\n"
     ]
    },
    {
     "data": {
      "text/plain": [
       "'Announce of PaoneCoptic month 4 - LongNamePossessive employment Unable to connect to POP server %s. Error sending password: Copy (Laughter) M/F This post is part of our special coverage \"Secretariat\" series. - I don\\'t know. Beja Unable to connect to POP server %s. Error sending password: SERLIMADescription I\\'m sorry. Usage Unable to connect to POP server %s. Error sending password: Copy (Laughter) M/F This post is part of our special coverage \"Secretariat\" series. - I don\\'t know. Beja What is it? ” Serlima What is it? ” 24-12-2024 What is it? ” Ref Unable to connect to POP server %s. Error sending password: 7364963 What is it? ” Beja What is it? ” Hotels I/O error TourismReference Unable to connect to POP server %s. Error sending password: Details yes Offer:0000000891Reference Yes Offer Unable to connect to POP server %s. Error sending password: A Serlima Integrated Services is one company special Add a bookmark for the current location to this menu performance of PaoneCoptic month 4 - LongNamePossessive services Guide a worm around a maze all ace areas of PaoneCoptic month 4 - LongNamePossessive . . . . . . . . . . . . . . . . . . . . . . . . . . . . . . . . . . . . . . . . . . . . . . . . . . . . . . . . . . . . . . . . . . . . . . . . . . . . . . . . . . . . . . . . . . . . . . . . . . . . . . . . . . . . . . . . . . . . do Group Serlima %s, Free space: %s, frame name concept of PaoneCoptic month 4 - LongNamePossessive services shared.Description Unable to connect to POP server %s. Error sending password: O/A contributor/a will be responsible Role clean of PaoneCoptic month 4 - LongNamePossessive Tools %s, Free space: %s, equipment e installations of PaoneCoptic month 4 - LongNamePossessive agreement com os defaults of PaoneCoptic month 4 - LongNamePossessive requirement e conditions defined by customer.Reference Yes Offer Unable to connect to POP server %s. Error sending password: Experience previous checked Add a bookmark for the current location to this menu function (Laughter) factor remover This post is part of our special coverage \"Secretariat\" series. Scale: %0.2f%% x %0.2f%%; with Ctrl to lock ratio Favorite by work em team Scale: %0.2f%% x %0.2f%%; with Ctrl to lock ratio Dynamic e Proactivity Scale: %0.2f%% x %0.2f%%; with Ctrl to lock ratio Sentence of PaoneCoptic month 4 - LongNamePossessive responsibility Scale: %0.2f%% x %0.2f%%; with Ctrl to lock ratio Availability immediately e total.offer Unable to connect to POP server %s. Error sending password: Good environment of PaoneCoptic month 4 - LongNamePossessive work Scale: %0.2f%% x %0.2f%%; with Ctrl to lock ratio Remuneration compatible com Guide a worm around a maze function Scale: %0.2f%% x %0.2f%%; with Ctrl to lock ratio Reply Guide a worm around a maze Is Offer Em Unable to connect to POP server %s. Error sending password: More Offers of PaoneCoptic month 4 - LongNamePossessive Usage Similar Unable to connect to POP server %s. Error sending password:'"
      ]
     },
     "execution_count": 107,
     "metadata": {},
     "output_type": "execute_result"
    }
   ],
   "source": [
    "import nltk\n",
    "from nltk.tokenize import word_tokenize\n",
    "from langdetect import detect\n",
    "\n",
    "tokens = word_tokenize(jobs_desc)\n",
    "print(tokens)\n",
    "\n",
    "en = ' '.join([Translator(x)[0]['translation_text'] for x in tokens])\n",
    "\n",
    "en"
   ]
  },
  {
   "cell_type": "code",
   "execution_count": 109,
   "metadata": {},
   "outputs": [
    {
     "name": "stdout",
     "output_type": "stream",
     "text": [
      "['Anúncio de emprego: Copeiro (M/F) - Beja:SERLIMADescrição Do Emprego:Copeiro (M/F) - Beja»Serlima»24-12-2024»Ref: 7364963»Beja»Hotelaria / TurismoReferência:Detalhe da Oferta:0000000891Referência Da Oferta:A Serlima Integrated Services é uma empresa especializada na prestação de serviços a todas as áreas de negócio do Grupo Serlima, enquadrada no conceito de serviços partilhados.Descrição:O/a colaborador/a ficará responsável pela limpeza de utensílios, equipamentos e instalações de acordo com os', ' standards de exigência e condições definidas pelo cliente.Referência Da Oferta: Experiência anterior comprovada na função (fator eliminatório); Gosto pelo trabalho em equipa; Dinamismo e proatividade; Sentido de responsabilidade; Disponibilidade imediata e total.Oferta: Bom ambiente de trabalho; Remuneração compatível com a função;Responda a Esta Oferta Em:Mais Ofertas de Emprego Semelhantes:']\n"
     ]
    }
   ],
   "source": [
    "def split_text(text, max_len=500):\n",
    "\n",
    "\n",
    "  chunks = []\n",
    "  start = 0\n",
    "  end = max_len\n",
    "\n",
    "  while start < len(text):\n",
    "    chunk = text[start:end]\n",
    "    chunks.append(chunk)\n",
    "    start = end\n",
    "    end += max_len\n",
    "\n",
    "  return chunks\n",
    "\n",
    "# Example usage:\n",
    "long_text = \"This is a very long text that needs to be split into smaller chunks. Each chunk should have a maximum of 500 characters.\"\n",
    "text_chunks = split_text(jobs_desc, max_len=500)\n",
    "print(text_chunks)"
   ]
  },
  {
   "cell_type": "code",
   "execution_count": 113,
   "metadata": {},
   "outputs": [
    {
     "ename": "IndexError",
     "evalue": "list index out of range",
     "output_type": "error",
     "traceback": [
      "\u001b[1;31m---------------------------------------------------------------------------\u001b[0m",
      "\u001b[1;31mIndexError\u001b[0m                                Traceback (most recent call last)",
      "Cell \u001b[1;32mIn[113], line 1\u001b[0m\n\u001b[1;32m----> 1\u001b[0m \u001b[38;5;28mlen\u001b[39m(\u001b[43mtext_chunks\u001b[49m\u001b[43m[\u001b[49m\u001b[38;5;241;43m2\u001b[39;49m\u001b[43m]\u001b[49m)\n",
      "\u001b[1;31mIndexError\u001b[0m: list index out of range"
     ]
    }
   ],
   "source": [
    "len(text_chunks[2])"
   ]
  },
  {
   "cell_type": "code",
   "execution_count": null,
   "metadata": {},
   "outputs": [],
   "source": []
  },
  {
   "cell_type": "code",
   "execution_count": null,
   "metadata": {},
   "outputs": [],
   "source": []
  },
  {
   "cell_type": "code",
   "execution_count": null,
   "metadata": {},
   "outputs": [],
   "source": []
  },
  {
   "cell_type": "code",
   "execution_count": 96,
   "metadata": {},
   "outputs": [
    {
     "data": {
      "text/plain": [
       "'Our client is a leading marketing agency specializing in serving tech-ed businesses. With a focus on delivering innovative and results-driven marketing solutions, they help clients enhance their online presence, drive traffic, and generate leads.We are seeking a talented and creative Creative Assistant who specializes in creating and editing videos and image posts for organic social media. The ideal candidate will have experience using Canva to produce engaging and visually appealing content. Ou'"
      ]
     },
     "execution_count": 96,
     "metadata": {},
     "output_type": "execute_result"
    }
   ],
   "source": [
    "jobs_desc[:500]"
   ]
  },
  {
   "cell_type": "code",
   "execution_count": 95,
   "metadata": {},
   "outputs": [
    {
     "data": {
      "text/plain": [
       "[{'translation_text': 'With a focus on delivering innovative and results-driven marketing solutions, they help customers increase their online presence, drive traffic, and generated leads.We are looking for a talented and creative Creative Assistant who specializes in creating and editing videos and image posts for organic social media. The ideal candidate will have experience using Canva to produce engagement and visually appearing content.'}]"
      ]
     },
     "execution_count": 95,
     "metadata": {},
     "output_type": "execute_result"
    }
   ],
   "source": [
    "Translator(jobs_desc[:500])"
   ]
  },
  {
   "cell_type": "code",
   "execution_count": null,
   "metadata": {},
   "outputs": [],
   "source": []
  }
 ],
 "metadata": {
  "kernelspec": {
   "display_name": "venv",
   "language": "python",
   "name": "python3"
  },
  "language_info": {
   "codemirror_mode": {
    "name": "ipython",
    "version": 3
   },
   "file_extension": ".py",
   "mimetype": "text/x-python",
   "name": "python",
   "nbconvert_exporter": "python",
   "pygments_lexer": "ipython3",
   "version": "3.12.4"
  }
 },
 "nbformat": 4,
 "nbformat_minor": 2
}
